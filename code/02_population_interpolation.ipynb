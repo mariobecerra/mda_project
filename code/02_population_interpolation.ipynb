{
 "cells": [
  {
   "cell_type": "code",
   "execution_count": 1,
   "id": "e1697ce7",
   "metadata": {},
   "outputs": [],
   "source": [
    "mortality_url = 'https://raw.githubusercontent.com/mariobecerra/mda_project/main/data/mortality_data_2000-2019.csv'\n",
    "population_url = 'https://raw.githubusercontent.com/mariobecerra/mda_project/main/data/Population_par_commune.xlsx'"
   ]
  },
  {
   "cell_type": "code",
   "execution_count": 2,
   "id": "8aacbbc0",
   "metadata": {},
   "outputs": [
    {
     "data": {
      "text/html": [
       "<div>\n",
       "<style scoped>\n",
       "    .dataframe tbody tr th:only-of-type {\n",
       "        vertical-align: middle;\n",
       "    }\n",
       "\n",
       "    .dataframe tbody tr th {\n",
       "        vertical-align: top;\n",
       "    }\n",
       "\n",
       "    .dataframe thead th {\n",
       "        text-align: right;\n",
       "    }\n",
       "</style>\n",
       "<table border=\"1\" class=\"dataframe\">\n",
       "  <thead>\n",
       "    <tr style=\"text-align: right;\">\n",
       "      <th></th>\n",
       "      <th>YEAR</th>\n",
       "      <th>COD</th>\n",
       "      <th>ARRON</th>\n",
       "      <th>N_DEATHS</th>\n",
       "      <th>WEEK</th>\n",
       "    </tr>\n",
       "  </thead>\n",
       "  <tbody>\n",
       "    <tr>\n",
       "      <th>17</th>\n",
       "      <td>2000</td>\n",
       "      <td>natural</td>\n",
       "      <td>11000</td>\n",
       "      <td>31.0</td>\n",
       "      <td>1</td>\n",
       "    </tr>\n",
       "    <tr>\n",
       "      <th>18</th>\n",
       "      <td>2000</td>\n",
       "      <td>natural</td>\n",
       "      <td>12000</td>\n",
       "      <td>10.0</td>\n",
       "      <td>1</td>\n",
       "    </tr>\n",
       "    <tr>\n",
       "      <th>19</th>\n",
       "      <td>2000</td>\n",
       "      <td>natural</td>\n",
       "      <td>13000</td>\n",
       "      <td>14.0</td>\n",
       "      <td>1</td>\n",
       "    </tr>\n",
       "    <tr>\n",
       "      <th>20</th>\n",
       "      <td>2000</td>\n",
       "      <td>natural</td>\n",
       "      <td>21000</td>\n",
       "      <td>43.0</td>\n",
       "      <td>1</td>\n",
       "    </tr>\n",
       "    <tr>\n",
       "      <th>21</th>\n",
       "      <td>2000</td>\n",
       "      <td>natural</td>\n",
       "      <td>23000</td>\n",
       "      <td>14.0</td>\n",
       "      <td>1</td>\n",
       "    </tr>\n",
       "  </tbody>\n",
       "</table>\n",
       "</div>"
      ],
      "text/plain": [
       "    YEAR      COD  ARRON  N_DEATHS  WEEK\n",
       "17  2000  natural  11000      31.0     1\n",
       "18  2000  natural  12000      10.0     1\n",
       "19  2000  natural  13000      14.0     1\n",
       "20  2000  natural  21000      43.0     1\n",
       "21  2000  natural  23000      14.0     1"
      ]
     },
     "execution_count": 2,
     "metadata": {},
     "output_type": "execute_result"
    }
   ],
   "source": [
    "import pandas as pd\n",
    "import numpy as np\n",
    "\n",
    "#################                weekly mortality data divided by municipality (2000-2019)\n",
    "week_mor_mun = pd.read_csv(mortality_url)\n",
    "week_mor_mun['WEEK'] = week_mor_mun['YEAR_WEEK'].str.slice(start=6).astype('int') # get week number\n",
    "week_mor_mun.rename(columns = {'N_MASK':'N_DEATHS'}, inplace = True)\n",
    "del week_mor_mun['YEAR_WEEK']\n",
    "week_mor_mun = week_mor_mun[week_mor_mun.COD != 'external'] # do not need data for external causes of death\n",
    "week_mor_mun = week_mor_mun[week_mor_mun.ARRON != 58000] # data for Arrondissement de La Louvière is only available for 2019 and therefore has been removed from dataset\n",
    "week_mor_mun.head()"
   ]
  },
  {
   "cell_type": "code",
   "execution_count": 3,
   "id": "ad8910d1",
   "metadata": {
    "scrolled": false
   },
   "outputs": [],
   "source": [
    "##################               combine data sets from different excel sheets\n",
    "\n",
    "# data with yearly population data divided by municipality\n",
    "xls = pd.ExcelFile(population_url)\n",
    "\n",
    "# create base dataframe\n",
    "cols = ['municipality_code', 'municipality_name', 'male', 'female', 'total']\n",
    "year_pop_mun = pd.DataFrame(columns=cols)\n",
    "years = []\n",
    "for i in range(21): # need poulation data for 21 years (years on both ends)\n",
    "    df = pd.read_excel(xls, 'Population en '+str(2000+i), header=None, skiprows=4, nrows=646) # 2000-2019\n",
    "    df.columns = cols\n",
    "    length_of_df = df.loc[df['municipality_name'] == 'Viroinval'].index.tolist()[0] + 1 # get the last line of table\n",
    "    years = years+[2000+i]*length_of_df\n",
    "    year_pop_mun = pd.concat([year_pop_mun, df[:length_of_df]] , axis=0, ignore_index=True)\n",
    "year_pop_mun['year'] = years\n",
    "\n",
    "# convert population columns to int\n",
    "convert_dict = {'male': int, 'female': int, 'total': int, 'municipality_code':int}\n",
    "year_pop_mun = year_pop_mun.astype(convert_dict)"
   ]
  },
  {
   "cell_type": "code",
   "execution_count": 4,
   "id": "5a4c0deb",
   "metadata": {
    "scrolled": true
   },
   "outputs": [
    {
     "data": {
      "text/html": [
       "<div>\n",
       "<style scoped>\n",
       "    .dataframe tbody tr th:only-of-type {\n",
       "        vertical-align: middle;\n",
       "    }\n",
       "\n",
       "    .dataframe tbody tr th {\n",
       "        vertical-align: top;\n",
       "    }\n",
       "\n",
       "    .dataframe thead th {\n",
       "        text-align: right;\n",
       "    }\n",
       "</style>\n",
       "<table border=\"1\" class=\"dataframe\">\n",
       "  <thead>\n",
       "    <tr style=\"text-align: right;\">\n",
       "      <th></th>\n",
       "      <th>municipality_code</th>\n",
       "      <th>municipality_name</th>\n",
       "      <th>male</th>\n",
       "      <th>female</th>\n",
       "      <th>total</th>\n",
       "      <th>year</th>\n",
       "    </tr>\n",
       "  </thead>\n",
       "  <tbody>\n",
       "    <tr>\n",
       "      <th>0</th>\n",
       "      <td>1000</td>\n",
       "      <td>Belgique</td>\n",
       "      <td>5006014</td>\n",
       "      <td>5233071</td>\n",
       "      <td>10239085</td>\n",
       "      <td>2000</td>\n",
       "    </tr>\n",
       "    <tr>\n",
       "      <th>1</th>\n",
       "      <td>2000</td>\n",
       "      <td>Région flamande</td>\n",
       "      <td>2929510</td>\n",
       "      <td>3010741</td>\n",
       "      <td>5940251</td>\n",
       "      <td>2000</td>\n",
       "    </tr>\n",
       "    <tr>\n",
       "      <th>2</th>\n",
       "      <td>3000</td>\n",
       "      <td>Région wallonne</td>\n",
       "      <td>1618652</td>\n",
       "      <td>1720864</td>\n",
       "      <td>3339516</td>\n",
       "      <td>2000</td>\n",
       "    </tr>\n",
       "    <tr>\n",
       "      <th>3</th>\n",
       "      <td>4000</td>\n",
       "      <td>Région de Bruxelles-Capitale</td>\n",
       "      <td>457852</td>\n",
       "      <td>501466</td>\n",
       "      <td>959318</td>\n",
       "      <td>2000</td>\n",
       "    </tr>\n",
       "    <tr>\n",
       "      <th>4</th>\n",
       "      <td>10000</td>\n",
       "      <td>Province d'Anvers</td>\n",
       "      <td>810339</td>\n",
       "      <td>833633</td>\n",
       "      <td>1643972</td>\n",
       "      <td>2000</td>\n",
       "    </tr>\n",
       "    <tr>\n",
       "      <th>...</th>\n",
       "      <td>...</td>\n",
       "      <td>...</td>\n",
       "      <td>...</td>\n",
       "      <td>...</td>\n",
       "      <td>...</td>\n",
       "      <td>...</td>\n",
       "    </tr>\n",
       "    <tr>\n",
       "      <th>13545</th>\n",
       "      <td>93018</td>\n",
       "      <td>Doische</td>\n",
       "      <td>1453</td>\n",
       "      <td>1517</td>\n",
       "      <td>2970</td>\n",
       "      <td>2020</td>\n",
       "    </tr>\n",
       "    <tr>\n",
       "      <th>13546</th>\n",
       "      <td>93022</td>\n",
       "      <td>Florennes</td>\n",
       "      <td>5556</td>\n",
       "      <td>5710</td>\n",
       "      <td>11266</td>\n",
       "      <td>2020</td>\n",
       "    </tr>\n",
       "    <tr>\n",
       "      <th>13547</th>\n",
       "      <td>93056</td>\n",
       "      <td>Philippeville</td>\n",
       "      <td>4567</td>\n",
       "      <td>4634</td>\n",
       "      <td>9201</td>\n",
       "      <td>2020</td>\n",
       "    </tr>\n",
       "    <tr>\n",
       "      <th>13548</th>\n",
       "      <td>93088</td>\n",
       "      <td>Walcourt</td>\n",
       "      <td>9052</td>\n",
       "      <td>9355</td>\n",
       "      <td>18407</td>\n",
       "      <td>2020</td>\n",
       "    </tr>\n",
       "    <tr>\n",
       "      <th>13549</th>\n",
       "      <td>93090</td>\n",
       "      <td>Viroinval</td>\n",
       "      <td>2786</td>\n",
       "      <td>2860</td>\n",
       "      <td>5646</td>\n",
       "      <td>2020</td>\n",
       "    </tr>\n",
       "  </tbody>\n",
       "</table>\n",
       "<p>13550 rows × 6 columns</p>\n",
       "</div>"
      ],
      "text/plain": [
       "       municipality_code             municipality_name     male   female  \\\n",
       "0                   1000                      Belgique  5006014  5233071   \n",
       "1                   2000               Région flamande  2929510  3010741   \n",
       "2                   3000               Région wallonne  1618652  1720864   \n",
       "3                   4000  Région de Bruxelles-Capitale   457852   501466   \n",
       "4                  10000             Province d'Anvers   810339   833633   \n",
       "...                  ...                           ...      ...      ...   \n",
       "13545              93018                       Doische     1453     1517   \n",
       "13546              93022                     Florennes     5556     5710   \n",
       "13547              93056                 Philippeville     4567     4634   \n",
       "13548              93088                      Walcourt     9052     9355   \n",
       "13549              93090                     Viroinval     2786     2860   \n",
       "\n",
       "          total  year  \n",
       "0      10239085  2000  \n",
       "1       5940251  2000  \n",
       "2       3339516  2000  \n",
       "3        959318  2000  \n",
       "4       1643972  2000  \n",
       "...         ...   ...  \n",
       "13545      2970  2020  \n",
       "13546     11266  2020  \n",
       "13547      9201  2020  \n",
       "13548     18407  2020  \n",
       "13549      5646  2020  \n",
       "\n",
       "[13550 rows x 6 columns]"
      ]
     },
     "execution_count": 4,
     "metadata": {},
     "output_type": "execute_result"
    }
   ],
   "source": [
    "year_pop_mun"
   ]
  },
  {
   "cell_type": "code",
   "execution_count": 5,
   "id": "ec7010d5",
   "metadata": {},
   "outputs": [],
   "source": [
    "##################                assign population to weekly death rate data (at week 1)\n",
    "existing_arrons = week_mor_mun['ARRON'].value_counts().index\n",
    "week_mor_mun['population_t'] = np.nan\n",
    "exceptions = []\n",
    "for year in range(21):\n",
    "    for arron in existing_arrons:\n",
    "        value = year_pop_mun[(year_pop_mun['year'] == (2000+year)) & (year_pop_mun['municipality_code'] == arron)]['total'].tolist()\n",
    "        if len(value) == 1: # check if population value exists in year_pop_mun\n",
    "            condition = (week_mor_mun['ARRON'] == arron) & (week_mor_mun['WEEK'] == 1) & (week_mor_mun['YEAR'] == (2000+year))\n",
    "            if (condition).any(): # check if a row with week 1 exists in week_mor_mun\n",
    "                week_mor_mun.loc[condition, 'population_t'] = value[0]\n",
    "            else:\n",
    "                dummy_df = pd.DataFrame({'YEAR': [2000+year], 'COD': ['natural'], 'ARRON': [arron], 'N_DEATHS': [0], 'WEEK':[1], 'population_t':  [value[0]]})\n",
    "                week_mor_mun = pd.concat([week_mor_mun, dummy_df] , axis=0, ignore_index=True)\n",
    "        else:\n",
    "            exceptions.append((year, arron))"
   ]
  },
  {
   "cell_type": "code",
   "execution_count": 6,
   "id": "c381d28e",
   "metadata": {},
   "outputs": [
    {
     "data": {
      "text/plain": [
       "[(19, 54000), (20, 54000)]"
      ]
     },
     "execution_count": 6,
     "metadata": {},
     "output_type": "execute_result"
    }
   ],
   "source": [
    "exceptions"
   ]
  },
  {
   "cell_type": "code",
   "execution_count": 7,
   "id": "b0293e52",
   "metadata": {
    "scrolled": true
   },
   "outputs": [
    {
     "data": {
      "text/plain": [
       "11000    1065\n",
       "63000    1065\n",
       "52000    1065\n",
       "53000    1065\n",
       "55000    1065\n",
       "56000    1065\n",
       "57000    1065\n",
       "61000    1065\n",
       "62000    1065\n",
       "71000    1065\n",
       "46000    1065\n",
       "72000    1065\n",
       "73000    1065\n",
       "83000    1065\n",
       "85000    1065\n",
       "91000    1065\n",
       "92000    1065\n",
       "93000    1065\n",
       "12000    1065\n",
       "64000    1065\n",
       "45000    1065\n",
       "33000    1065\n",
       "13000    1065\n",
       "21000    1065\n",
       "23000    1065\n",
       "24000    1065\n",
       "25000    1065\n",
       "31000    1065\n",
       "44000    1065\n",
       "32000    1065\n",
       "34000    1065\n",
       "35000    1065\n",
       "36000    1065\n",
       "38000    1065\n",
       "41000    1065\n",
       "42000    1065\n",
       "37000    1064\n",
       "84000    1064\n",
       "43000    1064\n",
       "51000    1064\n",
       "81000    1063\n",
       "82000    1062\n",
       "54000    1011\n",
       "Name: ARRON, dtype: int64"
      ]
     },
     "execution_count": 7,
     "metadata": {},
     "output_type": "execute_result"
    }
   ],
   "source": [
    "week_mor_mun['ARRON'].value_counts()"
   ]
  },
  {
   "cell_type": "code",
   "execution_count": 8,
   "id": "e87d3781",
   "metadata": {
    "scrolled": true
   },
   "outputs": [],
   "source": [
    "# get number of weeks for each year\n",
    "no_weeks = [week_mor_mun[(week_mor_mun['YEAR'] == (2000+i))]['WEEK'].max() for i in range(20)] # weeks for each year\n",
    "for year in range(20): # for each year\n",
    "    for arron in existing_arrons: # for each arron\n",
    "        if arron == 54000 and (year == 18 or year == 19): # 54000 population not available for 2019\n",
    "            continue\n",
    "        condition = (week_mor_mun['ARRON'] == arron) & (week_mor_mun['WEEK'] == 1)\n",
    "        prev_year_pop = week_mor_mun.loc[condition & (week_mor_mun['YEAR'] == (2000+year)), 'population_t'].tolist()[0]\n",
    "        next_year_pop = week_mor_mun.loc[condition & (week_mor_mun['YEAR'] == (2000+year+1)), 'population_t'].tolist()[0]\n",
    "        inter_values = np.linspace(prev_year_pop, next_year_pop, no_weeks[year], endpoint=False, dtype=int)[1:]\n",
    "        for ix, k in enumerate(inter_values):\n",
    "            week_mor_mun.loc[(week_mor_mun['ARRON'] == arron) & (week_mor_mun['YEAR'] == (2000+year)) & (week_mor_mun['WEEK'] == ix + 2),'population_t'] = k"
   ]
  },
  {
   "cell_type": "code",
   "execution_count": 9,
   "id": "22466564",
   "metadata": {},
   "outputs": [
    {
     "name": "stdout",
     "output_type": "stream",
     "text": [
      "54000 19\n"
     ]
    }
   ],
   "source": [
    "print(arron, year)"
   ]
  },
  {
   "cell_type": "code",
   "execution_count": 10,
   "id": "3f9c3477",
   "metadata": {},
   "outputs": [
    {
     "data": {
      "text/html": [
       "<div>\n",
       "<style scoped>\n",
       "    .dataframe tbody tr th:only-of-type {\n",
       "        vertical-align: middle;\n",
       "    }\n",
       "\n",
       "    .dataframe tbody tr th {\n",
       "        vertical-align: top;\n",
       "    }\n",
       "\n",
       "    .dataframe thead th {\n",
       "        text-align: right;\n",
       "    }\n",
       "</style>\n",
       "<table border=\"1\" class=\"dataframe\">\n",
       "  <thead>\n",
       "    <tr style=\"text-align: right;\">\n",
       "      <th></th>\n",
       "      <th>YEAR</th>\n",
       "      <th>COD</th>\n",
       "      <th>ARRON</th>\n",
       "      <th>N_DEATHS</th>\n",
       "      <th>WEEK</th>\n",
       "      <th>population_t</th>\n",
       "    </tr>\n",
       "  </thead>\n",
       "  <tbody>\n",
       "    <tr>\n",
       "      <th>0</th>\n",
       "      <td>2000</td>\n",
       "      <td>natural</td>\n",
       "      <td>11000</td>\n",
       "      <td>31.0</td>\n",
       "      <td>1</td>\n",
       "      <td>932103.0</td>\n",
       "    </tr>\n",
       "    <tr>\n",
       "      <th>1</th>\n",
       "      <td>2000</td>\n",
       "      <td>natural</td>\n",
       "      <td>12000</td>\n",
       "      <td>10.0</td>\n",
       "      <td>1</td>\n",
       "      <td>305670.0</td>\n",
       "    </tr>\n",
       "    <tr>\n",
       "      <th>2</th>\n",
       "      <td>2000</td>\n",
       "      <td>natural</td>\n",
       "      <td>13000</td>\n",
       "      <td>14.0</td>\n",
       "      <td>1</td>\n",
       "      <td>406199.0</td>\n",
       "    </tr>\n",
       "    <tr>\n",
       "      <th>3</th>\n",
       "      <td>2000</td>\n",
       "      <td>natural</td>\n",
       "      <td>21000</td>\n",
       "      <td>43.0</td>\n",
       "      <td>1</td>\n",
       "      <td>959318.0</td>\n",
       "    </tr>\n",
       "    <tr>\n",
       "      <th>4</th>\n",
       "      <td>2000</td>\n",
       "      <td>natural</td>\n",
       "      <td>23000</td>\n",
       "      <td>14.0</td>\n",
       "      <td>1</td>\n",
       "      <td>558220.0</td>\n",
       "    </tr>\n",
       "  </tbody>\n",
       "</table>\n",
       "</div>"
      ],
      "text/plain": [
       "   YEAR      COD  ARRON  N_DEATHS  WEEK  population_t\n",
       "0  2000  natural  11000      31.0     1      932103.0\n",
       "1  2000  natural  12000      10.0     1      305670.0\n",
       "2  2000  natural  13000      14.0     1      406199.0\n",
       "3  2000  natural  21000      43.0     1      959318.0\n",
       "4  2000  natural  23000      14.0     1      558220.0"
      ]
     },
     "execution_count": 10,
     "metadata": {},
     "output_type": "execute_result"
    }
   ],
   "source": [
    "week_mor_mun.head(5)"
   ]
  },
  {
   "cell_type": "code",
   "execution_count": 11,
   "id": "6d7bf0c2",
   "metadata": {
    "scrolled": true
   },
   "outputs": [],
   "source": [
    "week_mor_mun.to_csv('../out/weekly_mortality_with_linear_interpolated_population_data.csv', index=False)"
   ]
  },
  {
   "cell_type": "markdown",
   "id": "0b28b60f",
   "metadata": {},
   "source": [
    "# Mortality dataframe for modeling"
   ]
  },
  {
   "cell_type": "code",
   "execution_count": 12,
   "id": "ee69e7ff",
   "metadata": {},
   "outputs": [],
   "source": [
    "df = pd.read_csv(mortality_url)\n",
    "df.rename(columns = {'N_MASK':'N_DEATHS'}, inplace = True)\n",
    "df['WEEK'] = df['YEAR_WEEK'].str.slice(start=6).astype('int') # get week number\n",
    "df = df[df.COD != 'external'] # do not need data for external causes of death\n",
    "df = df[df.ARRON != 58000] # data for Arrondissement de La Louvière is only available for 2019 and therefore has been removed from dataset\n",
    "df = df.sort_values(by = ['YEAR_WEEK', 'ARRON'])\n",
    "df.to_csv('../out/mortality.csv', index=False)"
   ]
  },
  {
   "cell_type": "code",
   "execution_count": null,
   "id": "e7f8de89",
   "metadata": {},
   "outputs": [],
   "source": []
  }
 ],
 "metadata": {
  "kernelspec": {
   "display_name": "Python 3",
   "language": "python",
   "name": "python3"
  },
  "language_info": {
   "codemirror_mode": {
    "name": "ipython",
    "version": 3
   },
   "file_extension": ".py",
   "mimetype": "text/x-python",
   "name": "python",
   "nbconvert_exporter": "python",
   "pygments_lexer": "ipython3",
   "version": "3.8.8"
  },
  "varInspector": {
   "cols": {
    "lenName": 16,
    "lenType": 16,
    "lenVar": 40
   },
   "kernels_config": {
    "python": {
     "delete_cmd_postfix": "",
     "delete_cmd_prefix": "del ",
     "library": "var_list.py",
     "varRefreshCmd": "print(var_dic_list())"
    },
    "r": {
     "delete_cmd_postfix": ") ",
     "delete_cmd_prefix": "rm(",
     "library": "var_list.r",
     "varRefreshCmd": "cat(var_dic_list()) "
    }
   },
   "types_to_exclude": [
    "module",
    "function",
    "builtin_function_or_method",
    "instance",
    "_Feature"
   ],
   "window_display": false
  }
 },
 "nbformat": 4,
 "nbformat_minor": 5
}
