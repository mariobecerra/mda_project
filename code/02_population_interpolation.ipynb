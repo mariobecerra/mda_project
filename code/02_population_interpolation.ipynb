{
 "cells": [
  {
   "cell_type": "code",
   "execution_count": 2,
   "id": "89561788",
   "metadata": {},
   "outputs": [],
   "source": [
    "mortality_url = 'https://raw.githubusercontent.com/mariobecerra/mda_project/main/data/mortality_data_2000-2019.csv'\n",
    "population_url = 'https://raw.githubusercontent.com/mariobecerra/mda_project/main/data/Population_par_commune.xlsx'"
   ]
  },
  {
   "cell_type": "code",
   "execution_count": 2,
   "id": "cb75cd5d",
   "metadata": {},
   "outputs": [
    {
     "name": "stdout",
     "output_type": "stream",
     "text": [
      "       YEAR      COD  ARRON  N_DEATHS  WEEK\n",
      "17     2000  natural  11000      31.0     1\n",
      "18     2000  natural  12000      10.0     1\n",
      "19     2000  natural  13000      14.0     1\n",
      "20     2000  natural  21000      43.0     1\n",
      "21     2000  natural  23000      14.0     1\n",
      "...     ...      ...    ...       ...   ...\n",
      "82579  2019  natural  84000       6.0    53\n",
      "82580  2019  natural  85000       5.0    53\n",
      "82581  2019  natural  91000      10.0    53\n",
      "82582  2019  natural  92000      19.0    53\n",
      "82583  2019  natural  93000       7.0    53\n",
      "\n",
      "[45555 rows x 5 columns]\n",
      "<class 'pandas.core.frame.DataFrame'>\n",
      "Int64Index: 45555 entries, 17 to 82583\n",
      "Data columns (total 5 columns):\n",
      " #   Column    Non-Null Count  Dtype  \n",
      "---  ------    --------------  -----  \n",
      " 0   YEAR      45555 non-null  int64  \n",
      " 1   COD       45555 non-null  object \n",
      " 2   ARRON     45555 non-null  int64  \n",
      " 3   N_DEATHS  45210 non-null  float64\n",
      " 4   WEEK      45555 non-null  int32  \n",
      "dtypes: float64(1), int32(1), int64(2), object(1)\n",
      "memory usage: 1.9+ MB\n"
     ]
    }
   ],
   "source": [
    "import pandas as pd\n",
    "\n",
    "#################                weekly mortality data divided by municipality (2000-2019)\n",
    "week_mor_mun = pd.read_csv(mortality_url)\n",
    "week_mor_mun['WEEK'] = week_mor_mun['YEAR_WEEK'].str.slice(start=6).astype('int') # get week number\n",
    "week_mor_mun.rename(columns = {'N_MASK':'N_DEATHS'}, inplace = True)\n",
    "del week_mor_mun['YEAR_WEEK']\n",
    "week_mor_mun = week_mor_mun[week_mor_mun.COD != 'external'] # do not need data for external causes of death\n",
    "week_mor_mun = week_mor_mun[week_mor_mun.ARRON != 58000] # data for Arrondissement de La Louvière is only available for 2019 and therefore has been removed from dataset\n",
    "print(week_mor_mun)\n",
    "week_mor_mun.info()"
   ]
  },
  {
   "cell_type": "code",
   "execution_count": 3,
   "id": "4bc893fe",
   "metadata": {
    "scrolled": false
   },
   "outputs": [],
   "source": [
    "##################               combine data sets from different excel sheets\n",
    "\n",
    "# data with yearly population data divided by municipality\n",
    "xls = pd. ExcelFile(population_url)\n",
    "\n",
    "# create base dataframe\n",
    "cols = ['municipality_code', 'municipality_name', 'male', 'female', 'total']\n",
    "year_pop_mun = pd.DataFrame(columns=cols)\n",
    "years = []\n",
    "for i in range(21): # need poulation data for 21 years (years on both ends)\n",
    "    df = pd.read_excel(xls, 'Population en '+str(2000+i), header=None, skiprows=4, nrows=646) # 2000-2019\n",
    "    df.columns = cols\n",
    "    length_of_df = df.loc[df['municipality_name'] == 'Viroinval'].index.tolist()[0] + 1 # get the last line of table\n",
    "    years = years+[2000+i]*length_of_df\n",
    "    year_pop_mun = pd.concat([year_pop_mun, df[:length_of_df]] , axis=0, ignore_index=True)\n",
    "year_pop_mun['year'] = years\n",
    "    \n",
    "# # last dataframe is missing 8 municipalities\n",
    "# year_pop_mun.drop(year_pop_mun.tail(4).index,inplace=True)\n",
    "# year_pop_mun['year'] = years[:-8]\n",
    "\n",
    "# convert population columns to int\n",
    "convert_dict = {'male': int, 'female': int, 'total': int, 'municipality_code':int}\n",
    "year_pop_mun = year_pop_mun.astype(convert_dict)"
   ]
  },
  {
   "cell_type": "code",
   "execution_count": 4,
   "id": "50a854b1",
   "metadata": {},
   "outputs": [],
   "source": [
    "import numpy as np\n",
    "##################                assign population to weekly death rate data (at week 1)\n",
    "existing_arrons = week_mor_mun['ARRON'].value_counts().index\n",
    "week_mor_mun['population_t'] = np.nan\n",
    "exceptions = []\n",
    "for year in range(21):\n",
    "    for arron in existing_arrons:\n",
    "        value = year_pop_mun[(year_pop_mun['year'] == (2000+year)) & (year_pop_mun['municipality_code'] == arron)]['total'].tolist()\n",
    "        if len(value) == 1: # check if population value exists in year_pop_mun\n",
    "            condition = (week_mor_mun['ARRON'] == arron) & (week_mor_mun['WEEK'] == 1) & (week_mor_mun['YEAR'] == (2000+year))\n",
    "            if (condition).any(): # check if a row with week 1 exists in week_mor_mun\n",
    "                week_mor_mun.loc[condition, 'population_t'] = value[0]\n",
    "            else:\n",
    "                dummy_df = pd.DataFrame({'YEAR': [2000+year], 'COD': ['natural'], 'ARRON': [arron], 'N_DEATHS': [0], 'WEEK':[1], 'population_t':  [value[0]]})\n",
    "                week_mor_mun = pd.concat([week_mor_mun, dummy_df] , axis=0, ignore_index=True)\n",
    "        else:\n",
    "            exceptions.append((year, arron))"
   ]
  },
  {
   "cell_type": "code",
   "execution_count": 5,
   "id": "64492caf",
   "metadata": {},
   "outputs": [
    {
     "data": {
      "text/plain": [
       "[(19, 54000), (20, 54000)]"
      ]
     },
     "execution_count": 5,
     "metadata": {},
     "output_type": "execute_result"
    }
   ],
   "source": [
    "exceptions"
   ]
  },
  {
   "cell_type": "code",
   "execution_count": 6,
   "id": "4c6b988c",
   "metadata": {
    "scrolled": true
   },
   "outputs": [
    {
     "data": {
      "text/plain": [
       "64000    1065\n",
       "12000    1065\n",
       "62000    1065\n",
       "92000    1065\n",
       "24000    1065\n",
       "73000    1065\n",
       "35000    1065\n",
       "63000    1065\n",
       "46000    1065\n",
       "93000    1065\n",
       "32000    1065\n",
       "42000    1065\n",
       "25000    1065\n",
       "72000    1065\n",
       "55000    1065\n",
       "38000    1065\n",
       "21000    1065\n",
       "85000    1065\n",
       "45000    1065\n",
       "13000    1065\n",
       "61000    1065\n",
       "44000    1065\n",
       "11000    1065\n",
       "41000    1065\n",
       "56000    1065\n",
       "71000    1065\n",
       "52000    1065\n",
       "33000    1065\n",
       "31000    1065\n",
       "83000    1065\n",
       "34000    1065\n",
       "91000    1065\n",
       "57000    1065\n",
       "23000    1065\n",
       "53000    1065\n",
       "36000    1065\n",
       "84000    1064\n",
       "37000    1064\n",
       "43000    1064\n",
       "51000    1064\n",
       "81000    1063\n",
       "82000    1062\n",
       "54000    1011\n",
       "Name: ARRON, dtype: int64"
      ]
     },
     "execution_count": 6,
     "metadata": {},
     "output_type": "execute_result"
    }
   ],
   "source": [
    "week_mor_mun['ARRON'].value_counts()"
   ]
  },
  {
   "cell_type": "code",
   "execution_count": 7,
   "id": "4926bae5",
   "metadata": {
    "scrolled": true
   },
   "outputs": [],
   "source": [
    "# get number of weeks for each year\n",
    "no_weeks = [week_mor_mun[(week_mor_mun['YEAR'] == (2000+i))]['WEEK'].max() for i in range(20)] # weeks for each year\n",
    "for year in range(20): # for each year\n",
    "    for arron in existing_arrons: # for each arron\n",
    "        if arron == 54000 and (year == 18 or year == 19): # 54000 population not available for 2019\n",
    "            continue\n",
    "        condition = (week_mor_mun['ARRON'] == arron) & (week_mor_mun['WEEK'] == 1)\n",
    "        prev_year_pop = week_mor_mun.loc[condition & (week_mor_mun['YEAR'] == (2000+year)), 'population_t'].tolist()[0]\n",
    "        next_year_pop = week_mor_mun.loc[condition & (week_mor_mun['YEAR'] == (2000+year+1)), 'population_t'].tolist()[0]\n",
    "        inter_values = np.linspace(prev_year_pop, next_year_pop, no_weeks[year], endpoint=False, dtype=int)[1:]\n",
    "        for ix, k in enumerate(inter_values):\n",
    "            week_mor_mun.loc[(week_mor_mun['ARRON'] == arron) & (week_mor_mun['YEAR'] == (2000+year)) & (week_mor_mun['WEEK'] == ix + 2),'population_t'] = k"
   ]
  },
  {
   "cell_type": "code",
   "execution_count": 8,
   "id": "3f51ca6f",
   "metadata": {},
   "outputs": [
    {
     "name": "stdout",
     "output_type": "stream",
     "text": [
      "54000 19\n"
     ]
    }
   ],
   "source": [
    "print(arron, year)"
   ]
  },
  {
   "cell_type": "code",
   "execution_count": 9,
   "id": "c1fe036d",
   "metadata": {
    "scrolled": true
   },
   "outputs": [],
   "source": [
    "week_mor_mun.to_csv('out/weekly_mortality_with_linear_interpolated_population_data.csv', index=False)"
   ]
  },
  {
   "cell_type": "markdown",
   "id": "d4d24ea5",
   "metadata": {},
   "source": [
    "# Mortality Dataframe for Meta-Analysis"
   ]
  },
  {
   "cell_type": "code",
   "execution_count": 5,
   "metadata": {},
   "outputs": [],
   "source": [
    "import pandas as pd\n",
    "\n",
    "df = pd.read_csv(mortality_url)\n",
    "df.rename(columns = {'N_MASK':'N_DEATHS'}, inplace = True)\n",
    "df['WEEK'] = df['YEAR_WEEK'].str.slice(start=6).astype('int') # get week number\n",
    "df = df[df.COD != 'external'] # do not need data for external causes of death\n",
    "df = df[df.ARRON != 58000] # data for Arrondissement de La Louvière is only available for 2019 and therefore has been removed from dataset\n",
    "df = df.sort_values(by = ['YEAR_WEEK', 'ARRON'])\n",
    "df.to_csv('out/mortality.csv', index=False)"
   ]
  }
 ],
 "metadata": {
  "interpreter": {
   "hash": "398b0065f50162c1b8c4880c29c8a5eec687976cc28c806c28ee5adb796fb9de"
  },
  "kernelspec": {
   "display_name": "Python 3.8.5 ('base')",
   "language": "python",
   "name": "python3"
  },
  "language_info": {
   "codemirror_mode": {
    "name": "ipython",
    "version": 3
   },
   "file_extension": ".py",
   "mimetype": "text/x-python",
   "name": "python",
   "nbconvert_exporter": "python",
   "pygments_lexer": "ipython3",
   "version": "3.8.5"
  },
  "varInspector": {
   "cols": {
    "lenName": 16,
    "lenType": 16,
    "lenVar": 40
   },
   "kernels_config": {
    "python": {
     "delete_cmd_postfix": "",
     "delete_cmd_prefix": "del ",
     "library": "var_list.py",
     "varRefreshCmd": "print(var_dic_list())"
    },
    "r": {
     "delete_cmd_postfix": ") ",
     "delete_cmd_prefix": "rm(",
     "library": "var_list.r",
     "varRefreshCmd": "cat(var_dic_list()) "
    }
   },
   "types_to_exclude": [
    "module",
    "function",
    "builtin_function_or_method",
    "instance",
    "_Feature"
   ],
   "window_display": false
  }
 },
 "nbformat": 4,
 "nbformat_minor": 5
}
