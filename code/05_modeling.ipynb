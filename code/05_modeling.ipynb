{
  "nbformat": 4,
  "nbformat_minor": 0,
  "metadata": {
    "colab": {
      "name": "meta_analysis.ipynb",
      "provenance": [],
      "authorship_tag": "ABX9TyNP+xnppezjjH8JQ9p3GVhm",
      "include_colab_link": true
    },
    "kernelspec": {
      "name": "ir",
      "display_name": "R"
    },
    "language_info": {
      "name": "R"
    }
  },
  "cells": [
    {
      "cell_type": "markdown",
      "metadata": {
        "id": "view-in-github",
        "colab_type": "text"
      },
      "source": [
        "<a href=\"https://colab.research.google.com/github/mariobecerra/mda_project/blob/main/code/04_modeling.ipynb\" target=\"_parent\"><img src=\"https://colab.research.google.com/assets/colab-badge.svg\" alt=\"Open In Colab\"/></a>"
      ]
    },
    {
      "cell_type": "markdown",
      "source": [
        "**01) mkdata**"
      ],
      "metadata": {
        "id": "O3429oqmtRh3"
      }
    },
    {
      "cell_type": "code",
      "source": [
        "data_url = \"https://raw.githubusercontent.com/mariobecerra/mda_project/meta-analysis/code/out/meta_analysis_data.csv\"\n",
        "\n"
      ],
      "metadata": {
        "id": "_6n2FAwVrkof"
      },
      "execution_count": 1,
      "outputs": []
    },
    {
      "cell_type": "code",
      "source": [
        "if(!require(\"dlnm\")) install.packages(\"dlnm\")\n",
        "if(!require(\"splines\")) install.packages(\"splines\")\n",
        "if(!require(\"xtable\")) install.packages(\"xtable\")\n",
        "if(!require(\"mvmeta\")) install.packages(\"mvmeta\")\n",
        "\n"
      ],
      "metadata": {
        "colab": {
          "base_uri": "https://localhost:8080/"
        },
        "id": "M3yr8Y1Zr08L",
        "outputId": "ff2d3bdc-2b66-4bb8-f233-9c2c3cb07a2d"
      },
      "execution_count": 2,
      "outputs": [
        {
          "output_type": "stream",
          "name": "stderr",
          "text": [
            "Loading required package: dlnm\n",
            "\n",
            "This is dlnm 2.4.7. For details: help(dlnm) and vignette('dlnmOverview').\n",
            "\n",
            "Loading required package: splines\n",
            "\n",
            "Loading required package: xtable\n",
            "\n",
            "Loading required package: mvmeta\n",
            "\n",
            "This is mvmeta 1.0.3. For an overview type: help('mvmeta-package').\n",
            "\n"
          ]
        }
      ]
    },
    {
      "cell_type": "code",
      "source": [
        "# LOAD THE DATA\n",
        "data <- read.csv(data_url)\n",
        "\n",
        "# Excluding region La Louvière, as the mortality data was unavailable\n",
        "data <- data[data$Nom_arrondissement != \"La Louvière\",]"
      ],
      "metadata": {
        "id": "sb9L4MuQsW59"
      },
      "execution_count": 3,
      "outputs": []
    },
    {
      "cell_type": "code",
      "source": [
        "####################################################################\n",
        "# REGIONS\n",
        "\n",
        "regions <- as.character(unique(data$Nom_arrondissement))\n",
        "\n",
        "####################################################################\n",
        "# LIST OF DATAFRAMES FOR OUR REGIONS\n",
        "\n",
        "datalist <- lapply(regions, function(region) data[data$Nom_arrondissement==region,])\n",
        "names(datalist) <- regions\n",
        "\n",
        "####################################################################\n",
        "# CITY-LEVEL META-PREDICTORS\n",
        "\n",
        "lat <- c(50.9407, 51.2213, 49.6855, 50.6340, 50.8459, 50.0006, 51.2092, 50.8260,\n",
        "         50.4096, 50.8268, 51.0255, 51.0317, 50.2607, 51.1852, 51.0500, 50.8135,\n",
        "         50.9326, 50.5187, 50.8823, 50.6330, 51.0963, 50.2297, 51.0259, 50.4547,\n",
        "         50.7431, 50.4649, 49.8417, 50.5992, 51.2247, 50.1960, 50.9499, 51.1653,\n",
        "         50.5793, 50.3406, 51.0000, 50.7800, 50.6055, 51.3217, 50.5911, 51.0732,\n",
        "         49.5673, 50.6981, 50.8492)\n",
        "perclat <- round(quantile(lat,c(1,3)*0.25),1)\n",
        "\n",
        "####################################################################\n",
        "# ADDITIONAL INFO\n",
        "\n",
        "m <- length(datalist)\n",
        "\n",
        "# MOVING AVERAGE OF TMEAN OVER LAG 0-6\n",
        "for(i in seq(datalist)) datalist[[i]]$tmean05 <- \n",
        "  filter(datalist[[i]]$tmean,rep(1,6)/6,side=1)\n",
        "\n",
        "# TEMPERATURE RANGES (FOR LAG 0-5)\n",
        "ranges <- t(sapply(datalist,function(x) range(x$tmean05,na.rm=T)))\n",
        "\n",
        "# COMPUTE 25TH-75TH PERCENTILES OF META-VARIABLES\n",
        "\n",
        "# DEFINE THE AVERAGE RANGE, CENTERING POINT, DEGREE AND TYPE OF THE SPLINE\n",
        "# (THESE PARAMETERS CAN BE CHANGED BY THE USER FOR ADDITIONAL ANALYSES)\n",
        "cen <- 17\n",
        "bound <- colMeans(ranges)\n",
        "degree <- 2\n",
        "type <- \"bs\"\n",
        "df <- 6\n",
        "\n",
        "# DEFINE THE KNOTS AT TEMPERATURE CORRESPONDING TO AVERAGE PERCENTILES\n",
        "knotperc <- c(5,35,65,95)\n",
        "knots <- rowMeans(sapply(datalist,function(x) \n",
        "  quantile(x$tmean05,knotperc/100,na.rm=T)))"
      ],
      "metadata": {
        "id": "pbKR9lykr5A6"
      },
      "execution_count": 4,
      "outputs": []
    },
    {
      "cell_type": "markdown",
      "source": [
        "**02) Stage 1**"
      ],
      "metadata": {
        "id": "WpsXC2EgtdPV"
      }
    },
    {
      "cell_type": "code",
      "source": [
        "####################################################################\n",
        "# RUN THE FIRST STAGE MODEL\n",
        "#   COMPUTING TIME IS ~12SEC (IN A 2.66GHz-4GBRAM PC UNDER WINDOWS)\n",
        "####################################################################\n",
        "\n",
        "# BUILT OBJECTS WHERE RESULTS WILL BE STORED:\n",
        "#   ymat IS THE MATRIX FOR THE OUTCOME PARAMETERS\n",
        "#   Slist IS THE LIST WITH (CO)VARIANCE MATRICES\n",
        "ymat <- matrix(NA, \n",
        "               m, \n",
        "               df, \n",
        "               dimnames=list(regions, paste(\"spl\", seq(df), sep=\"\")))\n",
        "Slist <- vector(\"list\",m)\n",
        "names(Slist) <- regions\n",
        "\n",
        "####################################################################\n",
        "# RUN THE FIRST-STAGE ANALYSIS\n",
        "\n",
        "# WARNING FOR PREDICTION BEYOND BOUNDARIES SUPPRESSED\n",
        "options(warn = -1)\n",
        "\n",
        "system.time(\n",
        "for(i in seq(m)) {\n",
        "  \n",
        "\n",
        "  # LOAD\n",
        "  data <- datalist[[i]]\n",
        "\n",
        "  # CREATE THE SPLINE\n",
        "  # NB: KNOTS AND BOUNDARIES FIXED AT SAME VALUES\n",
        "  btmean05 <- onebasis(data$tmean05,\n",
        "                       fun = type,\n",
        "                       degree = degree,\n",
        "                       knots = knots,\n",
        "                       Bound = bound)\n",
        "\n",
        "  # RUN THE MODEL\n",
        "  model <- glm(N_DEATHS ~ btmean05 + DOW + ns(TIME,7*14),\n",
        "               family = quasipoisson(),\n",
        "               data,\n",
        "               na.action = na.exclude)\n",
        "\t\n",
        "  # EXTRACT AND SAVE THE RELATED COEF AND VCOV\n",
        "  predtmean05 <- crosspred(btmean05, model, cen=cen)\n",
        "  ymat[i,] <- predtmean05$coef\n",
        "  Slist[[i]] <- predtmean05$vcov\n",
        "})\n",
        "\n",
        "# RESET WARNING\n",
        "options(warn = 0)\n",
        "\n",
        "\n"
      ],
      "metadata": {
        "colab": {
          "base_uri": "https://localhost:8080/",
          "height": 52
        },
        "id": "Xa2qrHR-td29",
        "outputId": "f269a5f5-14a0-4513-b276-c6f24f549bc9"
      },
      "execution_count": 6,
      "outputs": [
        {
          "output_type": "display_data",
          "data": {
            "text/plain": [
              "   user  system elapsed \n",
              " 10.051   0.086  10.163 "
            ]
          },
          "metadata": {}
        }
      ]
    },
    {
      "cell_type": "markdown",
      "source": [
        "**03) MV & Pred**"
      ],
      "metadata": {
        "id": "_2cgAa5bteIN"
      }
    },
    {
      "cell_type": "code",
      "source": [
        "####################################################################\n",
        "# 1) RUN THE MODELS WITH mvmeta\n",
        "#\n",
        "# 2) CREATE BASIS VARIABLES USING onebasis, USED FOR PREDICTION\n",
        "#\n",
        "# 3) PREDICT THE OUTCOME PARAMETERS OVER SPECIFIC VALUES OF STUDY-LEVEL\n",
        "#   COVARIATES USING predict (mvmeta),THEN RE-BUILD THE PREDICTED CURVE AT\n",
        "#   THOSE VALUES USING crosspred AGAIN\n",
        "#\n",
        "# NOTE: THE USE OF dlnm FUNCTIONS FACILITATES PREDICTION AND PLOTTING\n",
        "#\n",
        "####################################################################\n",
        "\n",
        "####################################################################\n",
        "# PERFORM MULTIVARIATE META-ANALYSIS\n",
        "####################################################################\n",
        "\n",
        "\n",
        "# MULTIVARIATE META-ANALYSIS\n",
        "mv <- mvmeta(ymat, Slist, method = \"ml\")\n",
        "summary(mv)\n",
        "\n",
        "# MULTIVARIATE META-REGRESSION\n",
        "(mvlat <- mvmeta(ymat ~ lat, Slist, method = \"ml\"))\n",
        "\n",
        "# NB: IN VERSION 0.4.1, CONVERGENCE MAY BE INSPECTED USING THE ARGUMENT:\n",
        "#   control=list(showiter=T)\n",
        "# NB: LESS STRICT CONVERGENCE CRITERIA, USEFUL FOR HIGH DIMENSIONAL\n",
        "#   MODELS, MAY BE SELECTED BY ADDING A reltol ARGUMENT, FOR EXAMPLE:\n",
        "#   control=list(showiter=T,reltol=10^-3)\n",
        "\n",
        "####################################################################\n",
        "# CREATE BASIS FOR PREDICTION\n",
        "####################################################################\n",
        "\n",
        "# BASIS USED TO PREDICT TEMPERATURE, EQUAL TO THAT USED FOR ESTIMATION\n",
        "#   NOTE: INTERNAL AND BOUNDARY KNOTS PLACED AT SAME VALUES AS IN ESTIMATION\n",
        "tmean <- seq(bound[1], bound[2], length=30)\n",
        "btmean <- onebasis(tmean, \n",
        "                   fun = type,\n",
        "                   degree = degree,\n",
        "                   knots = knots,\n",
        "                   Bound = bound)\n",
        " \n",
        "####################################################################\n",
        "# PREDICTION FROM MODELS\n",
        "####################################################################\n",
        "\n",
        "# USE OF crosspred TO PREDICT THE EFFECTS FOR THE CHOSEN VALUES\n",
        "\n",
        "# PREDICTION FROM SIMPLE META-ANALYSES WITH NO PREDICTORS\n",
        "# CENTERED TO SPECIFIC VALUE\n",
        "cp <- crosspred(btmean,\n",
        "                coef = coef(mv),\n",
        "                vcov = vcov(mv),\n",
        "                model.link = \"log\",\n",
        "                by = 0.1,\n",
        "                cen = cen)\n",
        "\n",
        "# COMPUTE PREDICTION FOR MULTIVARIATE META-REGRESSION MODELS\n",
        "#   1ST STEP: PREDICT THE OUTCOME PARAMETERS FOR SPECIFIC VALUES OF META-PREDICTOR\n",
        "#   2ND STEP: PREDICT THE RELATIONSHIP AT CHOSEN VALUES GIVEN THE PARAMETERS\n",
        "\n",
        "predlat <- predict(mvlat, data.frame(lat = perclat), vcov=T)\n",
        "cplat25 <- crosspred(btmean,\n",
        "                     coef = predlat[[1]]$fit,\n",
        "                     vcov = predlat[[1]]$vcov,\n",
        "                     model.link = \"log\",\n",
        "                     by = 0.1,\n",
        "                     cen = cen)\n",
        "cplat75 <- crosspred(btmean,\n",
        "                     coef = predlat[[2]]$fit,\n",
        "                     vcov = predlat[[2]]$vcov,\n",
        "                     model.link = \"log\",\n",
        "                     by = 0.1,\n",
        "                     cen = cen)\n",
        "\n",
        "#\n"
      ],
      "metadata": {
        "colab": {
          "base_uri": "https://localhost:8080/",
          "height": 781
        },
        "id": "DgVZQfr6teQi",
        "outputId": "fe9773e8-a8a4-4a42-8e47-66beeef6b71f"
      },
      "execution_count": 7,
      "outputs": [
        {
          "output_type": "display_data",
          "data": {
            "text/plain": [
              "Call:  mvmeta(formula = ymat ~ 1, S = Slist, method = \"ml\")\n",
              "\n",
              "Multivariate random-effects meta-analysis\n",
              "Dimension: 6\n",
              "Estimation method: ML\n",
              "\n",
              "Fixed-effects coefficients\n",
              "      Estimate  Std. Error        z  Pr(>|z|)  95%ci.lb  95%ci.ub     \n",
              "spl1    0.0107      0.0253   0.4217    0.6733   -0.0389    0.0603     \n",
              "spl2   -0.0501      0.0232  -2.1535    0.0313   -0.0956   -0.0045    *\n",
              "spl3   -0.0611      0.0221  -2.7634    0.0057   -0.1045   -0.0178   **\n",
              "spl4   -0.0459      0.0237  -1.9380    0.0526   -0.0924    0.0005    .\n",
              "spl5    0.0022      0.0257   0.0859    0.9315   -0.0482    0.0526     \n",
              "spl6    0.1810      0.0257   7.0478    0.0000    0.1307    0.2314  ***\n",
              "---\n",
              "Signif. codes:  0 ‘***’ 0.001 ‘**’ 0.01 ‘*’ 0.05 ‘.’ 0.1 ‘ ’ 1 \n",
              "\n",
              "Between-study random-effects (co)variance components\n",
              "Structure: General positive-definite\n",
              "      Std. Dev    Corr                                \n",
              "spl1    0.1470    spl1    spl2    spl3    spl4    spl5\n",
              "spl2    0.1380  0.9478                                \n",
              "spl3    0.1280  0.9293  0.9552                        \n",
              "spl4    0.1393  0.9299  0.9560  0.9416                \n",
              "spl5    0.1522  0.8589  0.8942  0.9298  0.9476        \n",
              "spl6    0.1446  0.7044  0.6901  0.6601  0.7660  0.6415\n",
              "\n",
              "Multivariate Cochran Q-test for heterogeneity:\n",
              "Q = 1367.3487 (df = 252), p-value = 0.0000\n",
              "I-square statistic = 81.6%\n",
              "\n",
              "43 studies, 258 observations, 6 fixed and 21 random-effects parameters\n",
              "   logLik        AIC        BIC  \n",
              " 324.1919  -594.3839  -498.4540  \n"
            ]
          },
          "metadata": {}
        },
        {
          "output_type": "display_data",
          "data": {
            "text/plain": [
              "Call:  mvmeta(formula = ymat ~ lat, S = Slist, method = \"ml\")\n",
              "\n",
              "Fixed-effects coefficients:\n",
              "                spl1     spl2     spl3     spl4     spl5     spl6\n",
              "(Intercept)  -3.5007  -2.5472  -2.7768  -2.7024  -2.2008  -0.5721\n",
              "lat           0.0693   0.0493   0.0536   0.0524   0.0435   0.0149\n",
              "\n",
              "43 studies, 258 observations, 12 fixed and 21 random-effects parameters\n",
              "   logLik        AIC        BIC  \n",
              " 325.7477  -585.4955  -468.2478  \n"
            ]
          },
          "metadata": {}
        }
      ]
    },
    {
      "cell_type": "markdown",
      "source": [
        "**04) Main results**"
      ],
      "metadata": {
        "id": "JJdCGQb2teZc"
      }
    },
    {
      "cell_type": "code",
      "source": [
        "####################################################################\n",
        "# TEMPERATURE RANGES\n",
        "####################################################################\n",
        "\n",
        "par(mar = c(5, 6, 4, 1)+0.1)\n",
        "layout(1)\n",
        "plot(seq(-10, 30, length = m),\n",
        "     seq(m),\n",
        "     type = \"n\",\n",
        "     yaxt = \"n\",\n",
        "     ylab = \"\",\n",
        "     xlab = \"Temperature range\",\n",
        "     main = \"Temperature ranges (C) - Lag 0-5\")\n",
        "axis(2, at = seq(m), labels = regions, las = 1, cex.axis = 0.7)\n",
        "arrows(ranges[, 1], seq(m), ranges[, 2], seq(m), angle = 90, length = 0.05, code = 3)\n",
        "title(ylab = \"Cities\", mgp = c(5, 1, 0))\n",
        "abline(v = knots)\n",
        "abline(v = bound, lty = 2)\n",
        "mtext(\"Vertical lines identify internal (continuous) and boundary (dashed) knots\",\n",
        "      cex = 0.8)\n",
        "\n",
        "####################################################################\n",
        "# GENERATE FIRST PART OF TABLE SIMILAR TO TABLE 2 IN THE MANUSCRIPT\n",
        "####################################################################\n",
        "\n",
        "tab2 <- matrix(NA, 4, 12)\n",
        "colnames(tab2) <- c(\"Q\", \"df\", \"p\", \"I-square\", \"AIC\", \"BIC\", \"stat\", \"df\",\n",
        "                    \"p\", \"stat\", \"df\", \"p\")\n",
        "rownames(tab2) <- c(\"intercept-only\", \"with latitude\", \"rel intercept-only\",\n",
        "                    \"rel with latitude\")\n",
        "\n",
        "# FUNCTION TO COMPUTE THE STATISTICS FOR EACH MODEL\n",
        "# THESE COMPUTATIONS ARE LIKELY TO BE REPLACED BY PROPER anova METHODS IN\n",
        "#   FUTURE RELEASES OF THE PACKAGE\n",
        "ftab <- function(m, mref=NULL) {\n",
        "  # HETEROGENEITY AND IC STATS\n",
        "  q <- qtest(m)\n",
        "  het <- c(q$Q[1], \n",
        "           q$df[1], \n",
        "           q$pvalue[1], \n",
        "           (q$Q[1]-q$df[1])/q$Q[1]*100, \n",
        "           AIC(m),\n",
        "           BIC(m))\n",
        "  # LR TEST (ONLY FOR META-REGRESSION)\n",
        "  if(!is.null(mref)) {\n",
        "    lrstat <- -2*(logLik(mref) - logLik(m))[1]\n",
        "    df <- attr(logLik(m), \"df\") - attr(logLik(mref), \"df\")\n",
        "    pvalue <- 1 - pchisq(lrstat, df)\n",
        "    lr <- c(lrstat, df, pvalue)\n",
        "  }\n",
        "  # WALD TEST (ONLY FOR META-REGRESSION)\n",
        "  if(!is.null(mref)) {\n",
        "    coef <- coef(m)[-grep(\"Int\", names(coef(m)))]\n",
        "    vcov <- vcov(m)[-grep(\"Int\", names(coef(m))), -grep(\"Int\", names(coef(m)))]\n",
        "    waldstat <- coef %*% solve(vcov) %*% coef\n",
        "    df <- length(coef)\n",
        "    pvalue <- 1 - pchisq(waldstat, df)\n",
        "    wald <- c(waldstat, df, pvalue)\n",
        "  }\n",
        "  # RESULTS\n",
        "  if(!is.null(mref)) {\n",
        "    return(c(het, lr, wald))\n",
        "  } else return(c(het, rep(NA, 6))) \n",
        "}\n",
        "\n",
        "tab2[1,] <- ftab(mv)\n",
        "tab2[2,] <- ftab(mvlat, mv)\n",
        "\n",
        "# THE TABLE WILL BE COMPLETED LATER\n",
        "\n",
        "####################################################################\n",
        "# POOLED RELATIONSHIP\n",
        "####################################################################\n",
        "\n",
        "# pdf(\"pooled_mhv.pdf\", width = 5.6, height = 3.8)\n",
        "# SET par OPTIONS\n",
        "par(mar = c(5, 4, 1, 1) + 0.1, cex.axis = 0.9)\n",
        "layout(1)\n",
        "\n",
        "plot(cp, \"overall\",\n",
        "     col=1,\n",
        "     lwd=2,\n",
        "     ylab=\"RR\",\n",
        "     ylim=c(.9,1.4),\n",
        "     xlim=c(-5,25),\n",
        "     xlab=\"Temperature (C)\")\n",
        "points(round(knots, 1), cp$allRRfit[as.character(round(knots, 1))], pch = 19, cex = 0.6)\n",
        "\n",
        "dev.off()\n",
        "\n",
        "####################################################################\n",
        "# BLUP\n",
        "####################################################################\n",
        "\n",
        "# pdf(\"bluptot_mhv.pdf\", width = 11.2, height = 3.8)\n",
        "# SET par OPTIONS AND MULTIPANEL\n",
        "par(mar = c(5, 4, 1, 1) + 0.1, cex.axis = 0.9)\n",
        "layout(matrix(1:2, 1, 2))\n",
        "\n",
        "# WARNING FOR PREDICTION BEYOND BOUNDARIES SUPPRESSED\n",
        "options(warn = -1)\n",
        "\n",
        "# PLOT OF AVERAGE AND CITY-SPECIFIC ESTIMATES\n",
        "plot(cp,\n",
        "     \"overall\",\n",
        "     type=\"n\",\n",
        "     ci=\"n\",\n",
        "     ylab=\"RR\",\n",
        "     ylim=c(.9,1.4),\n",
        "     xlim=c(-5,25),\n",
        "     xlim=range(ranges),\n",
        "     xlab=\"Temperature (C)\")\n",
        "for(i in seq(m)) {\n",
        "  # WARNING FOR PREDICTION BEYOND BOUNDARIES SUPPRESSED\n",
        "  lines(crosspred(btmean,\n",
        "                  coef=ymat[i,],\n",
        "                  vcov=Slist[[i]],\n",
        "                  model.link=\"log\",\n",
        "                  from=ranges[i,1],\n",
        "                  to=ranges[i,2],\n",
        "                  cen=cen),\n",
        "        col=grey(0.8),\n",
        "        lty=5)\n",
        "}\n",
        "lines(cp,\"overall\", col=1, lwd=2)\n",
        "abline(h=1)\n",
        "mtext(\"Study-specific\", cex=1.3)\n",
        "\n",
        "# PLOT OF AVERAGE AND BLUP ESTIMATES\n",
        "blup <- blup(mv, vcov=TRUE)\n",
        "plot(cp,\n",
        "     \"overall\",\n",
        "     type=\"n\",\n",
        "     ci=\"n\",\n",
        "     ylab=\"RR\",\n",
        "     ylim=c(.9,1.4),\n",
        "     xlim=c(-5,25),\n",
        "     xlim=range(ranges),\n",
        "     xlab=\"Temperature (C)\")\n",
        "for(i in seq(m)) {\n",
        "  # WARNING FOR PREDICTION BEYOND BOUNDARIES SUPPRESSED\n",
        "  lines(crosspred(btmean,\n",
        "                  coef=blup[[i]]$blup,\n",
        "                  vcov=blup[[i]]$vcov,\n",
        "                  model.link=\"log\",\n",
        "                  from=ranges[i,1],\n",
        "                  to=ranges[i,2],\n",
        "                  cen=cen),\n",
        "        col=grey(0.8),\n",
        "        lty=5)\n",
        "}\n",
        "lines(cp, \"overall\", col=1, lwd=2)\n",
        "abline(h = 1)\n",
        "mtext(\"BLUP\", cex=1.3)\n",
        "\n",
        "# RESET WARNING\n",
        "options(warn=0)\n",
        "\n",
        "dev.off()\n",
        "\n",
        "\n",
        "# pdf(\"blupregion_mhv.pdf\", width=11.2, height=3.8)\n",
        "# SET par OPTIONS AND MULTIPANEL\n",
        "par(mar=c(5, 4, 1, 1) + 0.1, cex.axis=0.9)\n",
        "layout(matrix(1:2, 1, 2))\n",
        "\n",
        "plot(cp,\n",
        "     \"overall\",\n",
        "     col=1,\n",
        "     lwd=2,\n",
        "     ylab=\"RR\",\n",
        "     ylim=c(.9,1.4),\n",
        "     xlim=c(-5,25),\n",
        "     ci=\"n\",\n",
        "     xlab=\"Temperature (C)\")\n",
        "lines(crosspred(btmean,\n",
        "                coef=ymat[\"Namur\",],\n",
        "                vcov=Slist[[\"Namur\"]],\n",
        "                model.link=\"log\",\n",
        "                by=0.1,\n",
        "                cen=cen),\n",
        "      lty=4)\n",
        "lines(crosspred(btmean,\n",
        "                coef=blup[[\"Namur\"]]$blup,\n",
        "                vcov=blup[[\"Namur\"]]$vcov,\n",
        "                model.link=\"log\",\n",
        "                by=0.1,\n",
        "                cen=cen),\n",
        "      lty=5)\n",
        "mtext(\"Namur\",cex=1.3)\n",
        "legend(\"top\",\n",
        "       c(\"Population-average\",\"First-stage\",\"BLUP\"),\n",
        "       lty=c(1,4,5),\n",
        "       lwd=c(2,1,1),\n",
        "       cex=0.8,\n",
        "       inset=0.1,\n",
        "       bty=\"n\")\n",
        "\n",
        "plot(cp,\n",
        "     \"overall\",\n",
        "     col=1,\n",
        "     lwd=2,\n",
        "     ylab=\"RR\",\n",
        "     ylim=c(.9,1.4),\n",
        "     xlim=c(-5,25),\n",
        "     ci=\"n\",\n",
        "     xlab=\"Temperature (C)\")\n",
        "lines(crosspred(btmean,\n",
        "                coef=ymat[\"Leuven\",],\n",
        "                vcov=Slist[[\"Leuven\"]],\n",
        "                model.link=\"log\",\n",
        "                by=0.1,\n",
        "                cen=cen),\n",
        "      lty=4)\n",
        "lines(crosspred(btmean,\n",
        "                coef=blup[[\"Leuven\"]]$blup,\n",
        "                vcov=blup[[\"Leuven\"]]$vcov,\n",
        "                model.link=\"log\",\n",
        "                by=0.1,\n",
        "                cen=cen),\n",
        "      lty=5)\n",
        "mtext(\"Leuven\", cex=1.3)\n",
        "legend(\"top\",\n",
        "       c(\"Population-average\",\"First-stage\",\"BLUP\"),\n",
        "       lty=c(1,4,5),\n",
        "       lwd=c(2,1,1),\n",
        "       cex=0.8,\n",
        "       inset=0.1,\n",
        "       bty=\"n\")\n",
        "\n",
        "dev.off()\n",
        "\n",
        "####################################################################\n",
        "# META-REGRESSION\n",
        "####################################################################\n",
        "\n",
        "# pdf(\"metareg_mhv.pdf\", width=6, height=4)\n",
        "# SET par OPTIONS AND MULTIPANEL\n",
        "par(mar = c(5, 4, 1, 1) + 0.1, cex.axis=0.9)\n",
        "layout(1)\n",
        "\n",
        "plot(cplat25,\n",
        "     \"overall\",\n",
        "     type=\"n\",\n",
        "     ylab=\"RR\",\n",
        "     ylim=c(.9,1.4),\n",
        "     xlim=c(-5,25),\n",
        "     xlab=\"Temperature (C)\",\n",
        "     ci.arg=list(density=20, col=grey(0.7)))\n",
        "lines(cplat25,\n",
        "      \"overall\",\n",
        "      col=1,\n",
        "      lty=4,\n",
        "      lwd=2)\n",
        "lines(cplat75,\n",
        "      \"overall\",\n",
        "      col=1,\n",
        "      lty=5,\n",
        "      lwd=2,\n",
        "      ci=\"area\",\n",
        "      ci.arg=list(density=20, angle=-45, col=grey(0.7)))\n",
        "abline(h=1)\n",
        "legend(\"top\",\n",
        "       paste(perclat),\n",
        "       lty=c(4,5),\n",
        "       lwd=2,\n",
        "       cex=1,\n",
        "       inset=0.1,\n",
        "       bty=\"n\",\n",
        "       title=\"Latitude (degree North)\")\n",
        "\n",
        "dev.off()\n",
        "\n",
        "#\n"
      ],
      "metadata": {
        "colab": {
          "base_uri": "https://localhost:8080/",
          "height": 926
        },
        "id": "A0VQChzNteh0",
        "outputId": "8234d9b1-280d-4c53-d374-c52ecb74e93e"
      },
      "execution_count": 8,
      "outputs": [
        {
          "output_type": "display_data",
          "data": {
            "text/plain": [
              "Plot with title “Temperature ranges (C) - Lag 0-5”"
            ],
            "image/png": "[encoded data removed]"
          },
          "metadata": {
            "image/png": {
              "width": 420,
              "height": 420
            }
          }
        },
        {
          "output_type": "display_data",
          "data": {
            "text/html": [
              "<strong>null device:</strong> 1"
            ],
            "text/markdown": "**null device:** 1",
            "text/latex": "\\textbf{null device:} 1",
            "text/plain": [
              "null device \n",
              "          1 "
            ]
          },
          "metadata": {}
        },
        {
          "output_type": "display_data",
          "data": {
            "text/html": [
              "<strong>null device:</strong> 1"
            ],
            "text/markdown": "**null device:** 1",
            "text/latex": "\\textbf{null device:} 1",
            "text/plain": [
              "null device \n",
              "          1 "
            ]
          },
          "metadata": {}
        },
        {
          "output_type": "display_data",
          "data": {
            "text/html": [
              "<strong>null device:</strong> 1"
            ],
            "text/markdown": "**null device:** 1",
            "text/latex": "\\textbf{null device:} 1",
            "text/plain": [
              "null device \n",
              "          1 "
            ]
          },
          "metadata": {}
        },
        {
          "output_type": "display_data",
          "data": {
            "text/html": [
              "<strong>null device:</strong> 1"
            ],
            "text/markdown": "**null device:** 1",
            "text/latex": "\\textbf{null device:} 1",
            "text/plain": [
              "null device \n",
              "          1 "
            ]
          },
          "metadata": {}
        },
        {
          "output_type": "display_data",
          "data": {
            "text/plain": [
              "plot without title"
            ],
            "image/png": "[encoded data removed]"
          },
          "metadata": {
            "image/png": {
              "width": 420,
              "height": 420
            }
          }
        }
      ]
    },
    {
      "cell_type": "markdown",
      "source": [
        ""
      ],
      "metadata": {
        "id": "szT_eTaOtept"
      }
    },
    {
      "cell_type": "code",
      "source": [
        ""
      ],
      "metadata": {
        "id": "cf-4pxMJteyH"
      },
      "execution_count": null,
      "outputs": []
    }
  ]
}