{
 "cells": [
  {
   "cell_type": "code",
   "execution_count": 2,
   "metadata": {},
   "outputs": [],
   "source": [
    "import os\n",
    "os.getcwd()\n",
    "os.chdir(\"C:\\\\Users\\\\baris\\\\Desktop\\\\Modern Data Analytics\")"
   ]
  },
  {
   "cell_type": "code",
   "execution_count": 3,
   "metadata": {},
   "outputs": [],
   "source": [
    "import pandas as pd\n",
    "import numpy as np\n",
    "import matplotlib as mp"
   ]
  },
  {
   "cell_type": "code",
   "execution_count": 4,
   "metadata": {},
   "outputs": [],
   "source": [
    "data = pd.read_csv(\"out/merged.csv\", sep = \",\", index_col=0)"
   ]
  },
  {
   "cell_type": "code",
   "execution_count": 5,
   "metadata": {},
   "outputs": [
    {
     "data": {
      "text/html": [
       "<div>\n",
       "<style scoped>\n",
       "    .dataframe tbody tr th:only-of-type {\n",
       "        vertical-align: middle;\n",
       "    }\n",
       "\n",
       "    .dataframe tbody tr th {\n",
       "        vertical-align: top;\n",
       "    }\n",
       "\n",
       "    .dataframe thead th {\n",
       "        text-align: right;\n",
       "    }\n",
       "</style>\n",
       "<table border=\"1\" class=\"dataframe\">\n",
       "  <thead>\n",
       "    <tr style=\"text-align: right;\">\n",
       "      <th></th>\n",
       "      <th>YEAR</th>\n",
       "      <th>ARRON</th>\n",
       "      <th>WEEK</th>\n",
       "      <th>population_t</th>\n",
       "      <th>YEAR_WEEK</th>\n",
       "      <th>Nom_arrondissement</th>\n",
       "      <th>heatwave_week_boolean</th>\n",
       "      <th>COD_y</th>\n",
       "      <th>N_MASK</th>\n",
       "    </tr>\n",
       "  </thead>\n",
       "  <tbody>\n",
       "    <tr>\n",
       "      <th>0</th>\n",
       "      <td>2000</td>\n",
       "      <td>11000</td>\n",
       "      <td>1</td>\n",
       "      <td>932103.0</td>\n",
       "      <td>2000-001</td>\n",
       "      <td>Antwerpen</td>\n",
       "      <td>0</td>\n",
       "      <td>natural</td>\n",
       "      <td>31.0</td>\n",
       "    </tr>\n",
       "    <tr>\n",
       "      <th>1</th>\n",
       "      <td>2000</td>\n",
       "      <td>12000</td>\n",
       "      <td>1</td>\n",
       "      <td>305670.0</td>\n",
       "      <td>2000-001</td>\n",
       "      <td>Mechelen</td>\n",
       "      <td>0</td>\n",
       "      <td>natural</td>\n",
       "      <td>10.0</td>\n",
       "    </tr>\n",
       "    <tr>\n",
       "      <th>2</th>\n",
       "      <td>2000</td>\n",
       "      <td>13000</td>\n",
       "      <td>1</td>\n",
       "      <td>406199.0</td>\n",
       "      <td>2000-001</td>\n",
       "      <td>Turnhout</td>\n",
       "      <td>0</td>\n",
       "      <td>natural</td>\n",
       "      <td>14.0</td>\n",
       "    </tr>\n",
       "    <tr>\n",
       "      <th>3</th>\n",
       "      <td>2000</td>\n",
       "      <td>21000</td>\n",
       "      <td>1</td>\n",
       "      <td>959318.0</td>\n",
       "      <td>2000-001</td>\n",
       "      <td>Bruxelles-Capitale</td>\n",
       "      <td>0</td>\n",
       "      <td>natural</td>\n",
       "      <td>43.0</td>\n",
       "    </tr>\n",
       "    <tr>\n",
       "      <th>4</th>\n",
       "      <td>2000</td>\n",
       "      <td>23000</td>\n",
       "      <td>1</td>\n",
       "      <td>558220.0</td>\n",
       "      <td>2000-001</td>\n",
       "      <td>Hal-Vilvorde</td>\n",
       "      <td>0</td>\n",
       "      <td>natural</td>\n",
       "      <td>14.0</td>\n",
       "    </tr>\n",
       "    <tr>\n",
       "      <th>5</th>\n",
       "      <td>2000</td>\n",
       "      <td>24000</td>\n",
       "      <td>1</td>\n",
       "      <td>456484.0</td>\n",
       "      <td>2000-001</td>\n",
       "      <td>Leuven</td>\n",
       "      <td>0</td>\n",
       "      <td>natural</td>\n",
       "      <td>20.0</td>\n",
       "    </tr>\n",
       "    <tr>\n",
       "      <th>6</th>\n",
       "      <td>2000</td>\n",
       "      <td>25000</td>\n",
       "      <td>1</td>\n",
       "      <td>349884.0</td>\n",
       "      <td>2000-001</td>\n",
       "      <td>Nivelles</td>\n",
       "      <td>0</td>\n",
       "      <td>natural</td>\n",
       "      <td>15.0</td>\n",
       "    </tr>\n",
       "    <tr>\n",
       "      <th>7</th>\n",
       "      <td>2000</td>\n",
       "      <td>31000</td>\n",
       "      <td>1</td>\n",
       "      <td>270866.0</td>\n",
       "      <td>2000-001</td>\n",
       "      <td>Brugge</td>\n",
       "      <td>0</td>\n",
       "      <td>natural</td>\n",
       "      <td>14.0</td>\n",
       "    </tr>\n",
       "    <tr>\n",
       "      <th>8</th>\n",
       "      <td>2000</td>\n",
       "      <td>32000</td>\n",
       "      <td>1</td>\n",
       "      <td>47992.0</td>\n",
       "      <td>2000-001</td>\n",
       "      <td>Diksmuide</td>\n",
       "      <td>0</td>\n",
       "      <td>natural</td>\n",
       "      <td>NaN</td>\n",
       "    </tr>\n",
       "    <tr>\n",
       "      <th>9</th>\n",
       "      <td>2000</td>\n",
       "      <td>33000</td>\n",
       "      <td>1</td>\n",
       "      <td>104278.0</td>\n",
       "      <td>2000-001</td>\n",
       "      <td>Ypres</td>\n",
       "      <td>0</td>\n",
       "      <td>natural</td>\n",
       "      <td>6.0</td>\n",
       "    </tr>\n",
       "  </tbody>\n",
       "</table>\n",
       "</div>"
      ],
      "text/plain": [
       "   YEAR  ARRON  WEEK  population_t YEAR_WEEK  Nom_arrondissement  \\\n",
       "0  2000  11000     1      932103.0  2000-001           Antwerpen   \n",
       "1  2000  12000     1      305670.0  2000-001            Mechelen   \n",
       "2  2000  13000     1      406199.0  2000-001            Turnhout   \n",
       "3  2000  21000     1      959318.0  2000-001  Bruxelles-Capitale   \n",
       "4  2000  23000     1      558220.0  2000-001        Hal-Vilvorde   \n",
       "5  2000  24000     1      456484.0  2000-001              Leuven   \n",
       "6  2000  25000     1      349884.0  2000-001            Nivelles   \n",
       "7  2000  31000     1      270866.0  2000-001              Brugge   \n",
       "8  2000  32000     1       47992.0  2000-001           Diksmuide   \n",
       "9  2000  33000     1      104278.0  2000-001               Ypres   \n",
       "\n",
       "   heatwave_week_boolean    COD_y  N_MASK  \n",
       "0                      0  natural    31.0  \n",
       "1                      0  natural    10.0  \n",
       "2                      0  natural    14.0  \n",
       "3                      0  natural    43.0  \n",
       "4                      0  natural    14.0  \n",
       "5                      0  natural    20.0  \n",
       "6                      0  natural    15.0  \n",
       "7                      0  natural    14.0  \n",
       "8                      0  natural     NaN  \n",
       "9                      0  natural     6.0  "
      ]
     },
     "execution_count": 5,
     "metadata": {},
     "output_type": "execute_result"
    }
   ],
   "source": [
    "data.head(10)"
   ]
  },
  {
   "cell_type": "code",
   "execution_count": 6,
   "metadata": {},
   "outputs": [
    {
     "data": {
      "text/html": [
       "<div>\n",
       "<style scoped>\n",
       "    .dataframe tbody tr th:only-of-type {\n",
       "        vertical-align: middle;\n",
       "    }\n",
       "\n",
       "    .dataframe tbody tr th {\n",
       "        vertical-align: top;\n",
       "    }\n",
       "\n",
       "    .dataframe thead th {\n",
       "        text-align: right;\n",
       "    }\n",
       "</style>\n",
       "<table border=\"1\" class=\"dataframe\">\n",
       "  <thead>\n",
       "    <tr style=\"text-align: right;\">\n",
       "      <th></th>\n",
       "      <th>YEAR</th>\n",
       "      <th>ARRON</th>\n",
       "      <th>WEEK</th>\n",
       "      <th>population_t</th>\n",
       "      <th>heatwave_week_boolean</th>\n",
       "      <th>N_MASK</th>\n",
       "    </tr>\n",
       "  </thead>\n",
       "  <tbody>\n",
       "    <tr>\n",
       "      <th>count</th>\n",
       "      <td>44713.000000</td>\n",
       "      <td>44713.000000</td>\n",
       "      <td>44713.000000</td>\n",
       "      <td>4.461000e+04</td>\n",
       "      <td>44713.000000</td>\n",
       "      <td>44446.000000</td>\n",
       "    </tr>\n",
       "    <tr>\n",
       "      <th>mean</th>\n",
       "      <td>2009.493369</td>\n",
       "      <td>51187.685908</td>\n",
       "      <td>26.653546</td>\n",
       "      <td>2.524206e+05</td>\n",
       "      <td>0.036499</td>\n",
       "      <td>44.125343</td>\n",
       "    </tr>\n",
       "    <tr>\n",
       "      <th>std</th>\n",
       "      <td>5.764971</td>\n",
       "      <td>22800.066144</td>\n",
       "      <td>15.010964</td>\n",
       "      <td>2.333094e+05</td>\n",
       "      <td>0.187531</td>\n",
       "      <td>40.172202</td>\n",
       "    </tr>\n",
       "    <tr>\n",
       "      <th>min</th>\n",
       "      <td>2000.000000</td>\n",
       "      <td>11000.000000</td>\n",
       "      <td>1.000000</td>\n",
       "      <td>4.057400e+04</td>\n",
       "      <td>0.000000</td>\n",
       "      <td>4.000000</td>\n",
       "    </tr>\n",
       "    <tr>\n",
       "      <th>25%</th>\n",
       "      <td>2004.000000</td>\n",
       "      <td>34000.000000</td>\n",
       "      <td>14.000000</td>\n",
       "      <td>8.179025e+04</td>\n",
       "      <td>0.000000</td>\n",
       "      <td>16.000000</td>\n",
       "    </tr>\n",
       "    <tr>\n",
       "      <th>50%</th>\n",
       "      <td>2009.000000</td>\n",
       "      <td>51000.000000</td>\n",
       "      <td>27.000000</td>\n",
       "      <td>1.837520e+05</td>\n",
       "      <td>0.000000</td>\n",
       "      <td>32.000000</td>\n",
       "    </tr>\n",
       "    <tr>\n",
       "      <th>75%</th>\n",
       "      <td>2014.000000</td>\n",
       "      <td>71000.000000</td>\n",
       "      <td>40.000000</td>\n",
       "      <td>3.164360e+05</td>\n",
       "      <td>0.000000</td>\n",
       "      <td>57.000000</td>\n",
       "    </tr>\n",
       "    <tr>\n",
       "      <th>max</th>\n",
       "      <td>2019.000000</td>\n",
       "      <td>93000.000000</td>\n",
       "      <td>53.000000</td>\n",
       "      <td>1.217888e+06</td>\n",
       "      <td>1.000000</td>\n",
       "      <td>317.000000</td>\n",
       "    </tr>\n",
       "  </tbody>\n",
       "</table>\n",
       "</div>"
      ],
      "text/plain": [
       "               YEAR         ARRON          WEEK  population_t  \\\n",
       "count  44713.000000  44713.000000  44713.000000  4.461000e+04   \n",
       "mean    2009.493369  51187.685908     26.653546  2.524206e+05   \n",
       "std        5.764971  22800.066144     15.010964  2.333094e+05   \n",
       "min     2000.000000  11000.000000      1.000000  4.057400e+04   \n",
       "25%     2004.000000  34000.000000     14.000000  8.179025e+04   \n",
       "50%     2009.000000  51000.000000     27.000000  1.837520e+05   \n",
       "75%     2014.000000  71000.000000     40.000000  3.164360e+05   \n",
       "max     2019.000000  93000.000000     53.000000  1.217888e+06   \n",
       "\n",
       "       heatwave_week_boolean        N_MASK  \n",
       "count           44713.000000  44446.000000  \n",
       "mean                0.036499     44.125343  \n",
       "std                 0.187531     40.172202  \n",
       "min                 0.000000      4.000000  \n",
       "25%                 0.000000     16.000000  \n",
       "50%                 0.000000     32.000000  \n",
       "75%                 0.000000     57.000000  \n",
       "max                 1.000000    317.000000  "
      ]
     },
     "execution_count": 6,
     "metadata": {},
     "output_type": "execute_result"
    }
   ],
   "source": [
    "data.describe()"
   ]
  },
  {
   "cell_type": "code",
   "execution_count": 7,
   "metadata": {},
   "outputs": [
    {
     "data": {
      "text/plain": [
       "0.03649945206092188"
      ]
     },
     "execution_count": 7,
     "metadata": {},
     "output_type": "execute_result"
    }
   ],
   "source": [
    "data.heatwave_week_boolean.sum() /data.heatwave_week_boolean.count()"
   ]
  },
  {
   "cell_type": "code",
   "execution_count": 8,
   "metadata": {},
   "outputs": [
    {
     "data": {
      "text/html": [
       "<div>\n",
       "<style scoped>\n",
       "    .dataframe tbody tr th:only-of-type {\n",
       "        vertical-align: middle;\n",
       "    }\n",
       "\n",
       "    .dataframe tbody tr th {\n",
       "        vertical-align: top;\n",
       "    }\n",
       "\n",
       "    .dataframe thead th {\n",
       "        text-align: right;\n",
       "    }\n",
       "</style>\n",
       "<table border=\"1\" class=\"dataframe\">\n",
       "  <thead>\n",
       "    <tr style=\"text-align: right;\">\n",
       "      <th></th>\n",
       "      <th>YEAR</th>\n",
       "      <th>ARRON</th>\n",
       "      <th>WEEK</th>\n",
       "      <th>population_t</th>\n",
       "      <th>YEAR_WEEK</th>\n",
       "      <th>Nom_arrondissement</th>\n",
       "      <th>heatwave_week_boolean</th>\n",
       "      <th>COD_y</th>\n",
       "      <th>N_MASK</th>\n",
       "    </tr>\n",
       "  </thead>\n",
       "  <tbody>\n",
       "    <tr>\n",
       "      <th>0</th>\n",
       "      <td>2000</td>\n",
       "      <td>11000</td>\n",
       "      <td>1</td>\n",
       "      <td>932103.0</td>\n",
       "      <td>2000-001</td>\n",
       "      <td>Antwerpen</td>\n",
       "      <td>0</td>\n",
       "      <td>natural</td>\n",
       "      <td>31.0</td>\n",
       "    </tr>\n",
       "    <tr>\n",
       "      <th>1</th>\n",
       "      <td>2000</td>\n",
       "      <td>12000</td>\n",
       "      <td>1</td>\n",
       "      <td>305670.0</td>\n",
       "      <td>2000-001</td>\n",
       "      <td>Mechelen</td>\n",
       "      <td>0</td>\n",
       "      <td>natural</td>\n",
       "      <td>10.0</td>\n",
       "    </tr>\n",
       "    <tr>\n",
       "      <th>2</th>\n",
       "      <td>2000</td>\n",
       "      <td>13000</td>\n",
       "      <td>1</td>\n",
       "      <td>406199.0</td>\n",
       "      <td>2000-001</td>\n",
       "      <td>Turnhout</td>\n",
       "      <td>0</td>\n",
       "      <td>natural</td>\n",
       "      <td>14.0</td>\n",
       "    </tr>\n",
       "    <tr>\n",
       "      <th>3</th>\n",
       "      <td>2000</td>\n",
       "      <td>21000</td>\n",
       "      <td>1</td>\n",
       "      <td>959318.0</td>\n",
       "      <td>2000-001</td>\n",
       "      <td>Bruxelles-Capitale</td>\n",
       "      <td>0</td>\n",
       "      <td>natural</td>\n",
       "      <td>43.0</td>\n",
       "    </tr>\n",
       "    <tr>\n",
       "      <th>4</th>\n",
       "      <td>2000</td>\n",
       "      <td>23000</td>\n",
       "      <td>1</td>\n",
       "      <td>558220.0</td>\n",
       "      <td>2000-001</td>\n",
       "      <td>Hal-Vilvorde</td>\n",
       "      <td>0</td>\n",
       "      <td>natural</td>\n",
       "      <td>14.0</td>\n",
       "    </tr>\n",
       "    <tr>\n",
       "      <th>...</th>\n",
       "      <td>...</td>\n",
       "      <td>...</td>\n",
       "      <td>...</td>\n",
       "      <td>...</td>\n",
       "      <td>...</td>\n",
       "      <td>...</td>\n",
       "      <td>...</td>\n",
       "      <td>...</td>\n",
       "      <td>...</td>\n",
       "    </tr>\n",
       "    <tr>\n",
       "      <th>44708</th>\n",
       "      <td>2019</td>\n",
       "      <td>58000</td>\n",
       "      <td>48</td>\n",
       "      <td>NaN</td>\n",
       "      <td>2019-048</td>\n",
       "      <td>La Louvière</td>\n",
       "      <td>0</td>\n",
       "      <td>natural</td>\n",
       "      <td>26.0</td>\n",
       "    </tr>\n",
       "    <tr>\n",
       "      <th>44709</th>\n",
       "      <td>2019</td>\n",
       "      <td>58000</td>\n",
       "      <td>49</td>\n",
       "      <td>NaN</td>\n",
       "      <td>2019-049</td>\n",
       "      <td>La Louvière</td>\n",
       "      <td>0</td>\n",
       "      <td>natural</td>\n",
       "      <td>26.0</td>\n",
       "    </tr>\n",
       "    <tr>\n",
       "      <th>44710</th>\n",
       "      <td>2019</td>\n",
       "      <td>58000</td>\n",
       "      <td>50</td>\n",
       "      <td>NaN</td>\n",
       "      <td>2019-050</td>\n",
       "      <td>La Louvière</td>\n",
       "      <td>0</td>\n",
       "      <td>natural</td>\n",
       "      <td>24.0</td>\n",
       "    </tr>\n",
       "    <tr>\n",
       "      <th>44711</th>\n",
       "      <td>2019</td>\n",
       "      <td>58000</td>\n",
       "      <td>51</td>\n",
       "      <td>NaN</td>\n",
       "      <td>2019-051</td>\n",
       "      <td>La Louvière</td>\n",
       "      <td>0</td>\n",
       "      <td>natural</td>\n",
       "      <td>37.0</td>\n",
       "    </tr>\n",
       "    <tr>\n",
       "      <th>44712</th>\n",
       "      <td>2019</td>\n",
       "      <td>58000</td>\n",
       "      <td>52</td>\n",
       "      <td>NaN</td>\n",
       "      <td>2019-052</td>\n",
       "      <td>La Louvière</td>\n",
       "      <td>0</td>\n",
       "      <td>natural</td>\n",
       "      <td>27.0</td>\n",
       "    </tr>\n",
       "  </tbody>\n",
       "</table>\n",
       "<p>43081 rows × 9 columns</p>\n",
       "</div>"
      ],
      "text/plain": [
       "       YEAR  ARRON  WEEK  population_t YEAR_WEEK  Nom_arrondissement  \\\n",
       "0      2000  11000     1      932103.0  2000-001           Antwerpen   \n",
       "1      2000  12000     1      305670.0  2000-001            Mechelen   \n",
       "2      2000  13000     1      406199.0  2000-001            Turnhout   \n",
       "3      2000  21000     1      959318.0  2000-001  Bruxelles-Capitale   \n",
       "4      2000  23000     1      558220.0  2000-001        Hal-Vilvorde   \n",
       "...     ...    ...   ...           ...       ...                 ...   \n",
       "44708  2019  58000    48           NaN  2019-048         La Louvière   \n",
       "44709  2019  58000    49           NaN  2019-049         La Louvière   \n",
       "44710  2019  58000    50           NaN  2019-050         La Louvière   \n",
       "44711  2019  58000    51           NaN  2019-051         La Louvière   \n",
       "44712  2019  58000    52           NaN  2019-052         La Louvière   \n",
       "\n",
       "       heatwave_week_boolean    COD_y  N_MASK  \n",
       "0                          0  natural    31.0  \n",
       "1                          0  natural    10.0  \n",
       "2                          0  natural    14.0  \n",
       "3                          0  natural    43.0  \n",
       "4                          0  natural    14.0  \n",
       "...                      ...      ...     ...  \n",
       "44708                      0  natural    26.0  \n",
       "44709                      0  natural    26.0  \n",
       "44710                      0  natural    24.0  \n",
       "44711                      0  natural    37.0  \n",
       "44712                      0  natural    27.0  \n",
       "\n",
       "[43081 rows x 9 columns]"
      ]
     },
     "execution_count": 8,
     "metadata": {},
     "output_type": "execute_result"
    }
   ],
   "source": [
    "data[data['heatwave_week_boolean']==0]"
   ]
  },
  {
   "cell_type": "code",
   "execution_count": 9,
   "metadata": {},
   "outputs": [
    {
     "data": {
      "text/html": [
       "<div>\n",
       "<style scoped>\n",
       "    .dataframe tbody tr th:only-of-type {\n",
       "        vertical-align: middle;\n",
       "    }\n",
       "\n",
       "    .dataframe tbody tr th {\n",
       "        vertical-align: top;\n",
       "    }\n",
       "\n",
       "    .dataframe thead th {\n",
       "        text-align: right;\n",
       "    }\n",
       "</style>\n",
       "<table border=\"1\" class=\"dataframe\">\n",
       "  <thead>\n",
       "    <tr style=\"text-align: right;\">\n",
       "      <th></th>\n",
       "      <th>YEAR</th>\n",
       "      <th>ARRON</th>\n",
       "      <th>WEEK</th>\n",
       "      <th>population_t</th>\n",
       "      <th>YEAR_WEEK</th>\n",
       "      <th>Nom_arrondissement</th>\n",
       "      <th>heatwave_week_boolean</th>\n",
       "      <th>COD_y</th>\n",
       "      <th>N_MASK</th>\n",
       "      <th>season</th>\n",
       "      <th>percentage_death</th>\n",
       "    </tr>\n",
       "  </thead>\n",
       "  <tbody>\n",
       "    <tr>\n",
       "      <th>0</th>\n",
       "      <td>2000</td>\n",
       "      <td>11000</td>\n",
       "      <td>1</td>\n",
       "      <td>932103.0</td>\n",
       "      <td>2000-001</td>\n",
       "      <td>Antwerpen</td>\n",
       "      <td>0</td>\n",
       "      <td>natural</td>\n",
       "      <td>31.0</td>\n",
       "      <td>1</td>\n",
       "      <td>0.000033</td>\n",
       "    </tr>\n",
       "    <tr>\n",
       "      <th>1</th>\n",
       "      <td>2000</td>\n",
       "      <td>12000</td>\n",
       "      <td>1</td>\n",
       "      <td>305670.0</td>\n",
       "      <td>2000-001</td>\n",
       "      <td>Mechelen</td>\n",
       "      <td>0</td>\n",
       "      <td>natural</td>\n",
       "      <td>10.0</td>\n",
       "      <td>1</td>\n",
       "      <td>0.000033</td>\n",
       "    </tr>\n",
       "    <tr>\n",
       "      <th>2</th>\n",
       "      <td>2000</td>\n",
       "      <td>13000</td>\n",
       "      <td>1</td>\n",
       "      <td>406199.0</td>\n",
       "      <td>2000-001</td>\n",
       "      <td>Turnhout</td>\n",
       "      <td>0</td>\n",
       "      <td>natural</td>\n",
       "      <td>14.0</td>\n",
       "      <td>1</td>\n",
       "      <td>0.000034</td>\n",
       "    </tr>\n",
       "    <tr>\n",
       "      <th>3</th>\n",
       "      <td>2000</td>\n",
       "      <td>21000</td>\n",
       "      <td>1</td>\n",
       "      <td>959318.0</td>\n",
       "      <td>2000-001</td>\n",
       "      <td>Bruxelles-Capitale</td>\n",
       "      <td>0</td>\n",
       "      <td>natural</td>\n",
       "      <td>43.0</td>\n",
       "      <td>1</td>\n",
       "      <td>0.000045</td>\n",
       "    </tr>\n",
       "    <tr>\n",
       "      <th>4</th>\n",
       "      <td>2000</td>\n",
       "      <td>23000</td>\n",
       "      <td>1</td>\n",
       "      <td>558220.0</td>\n",
       "      <td>2000-001</td>\n",
       "      <td>Hal-Vilvorde</td>\n",
       "      <td>0</td>\n",
       "      <td>natural</td>\n",
       "      <td>14.0</td>\n",
       "      <td>1</td>\n",
       "      <td>0.000025</td>\n",
       "    </tr>\n",
       "  </tbody>\n",
       "</table>\n",
       "</div>"
      ],
      "text/plain": [
       "   YEAR  ARRON  WEEK  population_t YEAR_WEEK  Nom_arrondissement  \\\n",
       "0  2000  11000     1      932103.0  2000-001           Antwerpen   \n",
       "1  2000  12000     1      305670.0  2000-001            Mechelen   \n",
       "2  2000  13000     1      406199.0  2000-001            Turnhout   \n",
       "3  2000  21000     1      959318.0  2000-001  Bruxelles-Capitale   \n",
       "4  2000  23000     1      558220.0  2000-001        Hal-Vilvorde   \n",
       "\n",
       "   heatwave_week_boolean    COD_y  N_MASK  season  percentage_death  \n",
       "0                      0  natural    31.0       1          0.000033  \n",
       "1                      0  natural    10.0       1          0.000033  \n",
       "2                      0  natural    14.0       1          0.000034  \n",
       "3                      0  natural    43.0       1          0.000045  \n",
       "4                      0  natural    14.0       1          0.000025  "
      ]
     },
     "execution_count": 9,
     "metadata": {},
     "output_type": "execute_result"
    }
   ],
   "source": [
    "#Extracting Season Feature\n",
    "data['season']=np.ceil(data.WEEK/13).astype(int)\n",
    "data.head()\n",
    "#Extract %Mortality\n",
    "data['percentage_death']=data.N_MASK/data.population_t\n",
    "data.head()\n"
   ]
  },
  {
   "cell_type": "code",
   "execution_count": 10,
   "metadata": {},
   "outputs": [
    {
     "data": {
      "text/plain": [
       "(44,)"
      ]
     },
     "execution_count": 10,
     "metadata": {},
     "output_type": "execute_result"
    }
   ],
   "source": [
    "np.unique(data['ARRON']).shape"
   ]
  },
  {
   "cell_type": "code",
   "execution_count": 11,
   "metadata": {},
   "outputs": [
    {
     "name": "stderr",
     "output_type": "stream",
     "text": [
      "C:\\Users\\baris\\Anaconda3\\envs\\mda\\lib\\site-packages\\ipykernel_launcher.py:1: UserWarning: Pandas doesn't allow columns to be created via a new attribute name - see https://pandas.pydata.org/pandas-docs/stable/indexing.html#attribute-access\n",
      "  \"\"\"Entry point for launching an IPython kernel.\n"
     ]
    },
    {
     "data": {
      "image/png": "[encoded data removed]",
      "text/plain": [
       "<Figure size 432x288 with 1 Axes>"
      ]
     },
     "metadata": {
      "needs_background": "light"
     },
     "output_type": "display_data"
    }
   ],
   "source": [
    "data.prop=data\n",
    "plot=data.boxplot(column='N_MASK',by='heatwave_week_boolean')"
   ]
  },
  {
   "cell_type": "code",
   "execution_count": 12,
   "metadata": {},
   "outputs": [
    {
     "data": {
      "text/html": [
       "<div>\n",
       "<style scoped>\n",
       "    .dataframe tbody tr th:only-of-type {\n",
       "        vertical-align: middle;\n",
       "    }\n",
       "\n",
       "    .dataframe tbody tr th {\n",
       "        vertical-align: top;\n",
       "    }\n",
       "\n",
       "    .dataframe thead th {\n",
       "        text-align: right;\n",
       "    }\n",
       "</style>\n",
       "<table border=\"1\" class=\"dataframe\">\n",
       "  <thead>\n",
       "    <tr style=\"text-align: right;\">\n",
       "      <th></th>\n",
       "      <th>count</th>\n",
       "      <th>mean</th>\n",
       "      <th>std</th>\n",
       "      <th>min</th>\n",
       "      <th>25%</th>\n",
       "      <th>50%</th>\n",
       "      <th>75%</th>\n",
       "      <th>max</th>\n",
       "    </tr>\n",
       "    <tr>\n",
       "      <th>heatwave_week_boolean</th>\n",
       "      <th></th>\n",
       "      <th></th>\n",
       "      <th></th>\n",
       "      <th></th>\n",
       "      <th></th>\n",
       "      <th></th>\n",
       "      <th></th>\n",
       "      <th></th>\n",
       "    </tr>\n",
       "  </thead>\n",
       "  <tbody>\n",
       "    <tr>\n",
       "      <th>0</th>\n",
       "      <td>42820.0</td>\n",
       "      <td>44.051284</td>\n",
       "      <td>40.136975</td>\n",
       "      <td>4.0</td>\n",
       "      <td>16.0</td>\n",
       "      <td>32.0</td>\n",
       "      <td>57.0</td>\n",
       "      <td>317.0</td>\n",
       "    </tr>\n",
       "    <tr>\n",
       "      <th>1</th>\n",
       "      <td>1626.0</td>\n",
       "      <td>46.075646</td>\n",
       "      <td>41.053569</td>\n",
       "      <td>4.0</td>\n",
       "      <td>16.0</td>\n",
       "      <td>34.0</td>\n",
       "      <td>61.0</td>\n",
       "      <td>238.0</td>\n",
       "    </tr>\n",
       "  </tbody>\n",
       "</table>\n",
       "</div>"
      ],
      "text/plain": [
       "                         count       mean        std  min   25%   50%   75%  \\\n",
       "heatwave_week_boolean                                                         \n",
       "0                      42820.0  44.051284  40.136975  4.0  16.0  32.0  57.0   \n",
       "1                       1626.0  46.075646  41.053569  4.0  16.0  34.0  61.0   \n",
       "\n",
       "                         max  \n",
       "heatwave_week_boolean         \n",
       "0                      317.0  \n",
       "1                      238.0  "
      ]
     },
     "execution_count": 12,
     "metadata": {},
     "output_type": "execute_result"
    }
   ],
   "source": [
    "data.groupby('heatwave_week_boolean')['N_MASK'].describe()"
   ]
  },
  {
   "cell_type": "code",
   "execution_count": 13,
   "metadata": {},
   "outputs": [
    {
     "data": {
      "text/plain": [
       "0"
      ]
     },
     "execution_count": 13,
     "metadata": {},
     "output_type": "execute_result"
    }
   ],
   "source": [
    "data.ARRON.isnull().sum()"
   ]
  },
  {
   "cell_type": "code",
   "execution_count": 14,
   "metadata": {},
   "outputs": [
    {
     "data": {
      "text/html": [
       "<div>\n",
       "<style scoped>\n",
       "    .dataframe tbody tr th:only-of-type {\n",
       "        vertical-align: middle;\n",
       "    }\n",
       "\n",
       "    .dataframe tbody tr th {\n",
       "        vertical-align: top;\n",
       "    }\n",
       "\n",
       "    .dataframe thead th {\n",
       "        text-align: right;\n",
       "    }\n",
       "</style>\n",
       "<table border=\"1\" class=\"dataframe\">\n",
       "  <thead>\n",
       "    <tr style=\"text-align: right;\">\n",
       "      <th></th>\n",
       "      <th>NIS_Code</th>\n",
       "      <th>Nom_arrondissement</th>\n",
       "      <th>lat</th>\n",
       "      <th>lon</th>\n",
       "    </tr>\n",
       "  </thead>\n",
       "  <tbody>\n",
       "    <tr>\n",
       "      <th>0</th>\n",
       "      <td>11000</td>\n",
       "      <td>Antwerpen</td>\n",
       "      <td>51.280681</td>\n",
       "      <td>4.505809</td>\n",
       "    </tr>\n",
       "    <tr>\n",
       "      <th>1</th>\n",
       "      <td>63000</td>\n",
       "      <td>Verviers</td>\n",
       "      <td>50.464213</td>\n",
       "      <td>6.022070</td>\n",
       "    </tr>\n",
       "    <tr>\n",
       "      <th>2</th>\n",
       "      <td>13000</td>\n",
       "      <td>Turnhout</td>\n",
       "      <td>51.250094</td>\n",
       "      <td>4.950422</td>\n",
       "    </tr>\n",
       "    <tr>\n",
       "      <th>3</th>\n",
       "      <td>62000</td>\n",
       "      <td>Liège</td>\n",
       "      <td>50.613433</td>\n",
       "      <td>5.607778</td>\n",
       "    </tr>\n",
       "    <tr>\n",
       "      <th>4</th>\n",
       "      <td>64000</td>\n",
       "      <td>Waremme</td>\n",
       "      <td>50.662789</td>\n",
       "      <td>5.206501</td>\n",
       "    </tr>\n",
       "  </tbody>\n",
       "</table>\n",
       "</div>"
      ],
      "text/plain": [
       "   NIS_Code Nom_arrondissement        lat       lon\n",
       "0     11000          Antwerpen  51.280681  4.505809\n",
       "1     63000           Verviers  50.464213  6.022070\n",
       "2     13000           Turnhout  51.250094  4.950422\n",
       "3     62000              Liège  50.613433  5.607778\n",
       "4     64000            Waremme  50.662789  5.206501"
      ]
     },
     "execution_count": 14,
     "metadata": {},
     "output_type": "execute_result"
    }
   ],
   "source": [
    "# k-means discritizing arrondismants using coordinates to extract regions\n",
    "arrondissements_url = 'https://raw.githubusercontent.com/mariobecerra/mda_project/main/data/arrondissements_coords.csv'\n",
    "arron = pd.read_csv(arrondissements_url)\n",
    "arron.head()\n"
   ]
  },
  {
   "cell_type": "code",
   "execution_count": 15,
   "metadata": {},
   "outputs": [
    {
     "data": {
      "text/plain": [
       "<AxesSubplot:xlabel='lat', ylabel='lon'>"
      ]
     },
     "execution_count": 15,
     "metadata": {},
     "output_type": "execute_result"
    },
    {
     "data": {
      "image/png": "[encoded data removed]",
      "text/plain": [
       "<Figure size 432x288 with 1 Axes>"
      ]
     },
     "metadata": {
      "needs_background": "light"
     },
     "output_type": "display_data"
    }
   ],
   "source": [
    "arron.plot(x='lat',y='lon',kind='scatter',)"
   ]
  },
  {
   "cell_type": "code",
   "execution_count": 33,
   "metadata": {},
   "outputs": [
    {
     "data": {
      "text/plain": [
       "<AxesSubplot:xlabel='lon', ylabel='lat'>"
      ]
     },
     "execution_count": 33,
     "metadata": {},
     "output_type": "execute_result"
    },
    {
     "data": {
      "image/png": "[encoded data removed]",
      "text/plain": [
       "<Figure size 432x288 with 2 Axes>"
      ]
     },
     "metadata": {
      "needs_background": "light"
     },
     "output_type": "display_data"
    }
   ],
   "source": [
    "from sklearn.preprocessing import KBinsDiscretizer\n",
    "from sklearn.cluster import KMeans\n",
    "d = KMeans(n_clusters=5)\n",
    "arron['region']=d.fit(arron[['lat','lon']]).labels_\n",
    "arron.head()\n",
    "\n",
    "arron.plot.scatter(y='lat',x='lon',c='region',cmap=\"plasma\", s=50)"
   ]
  },
  {
   "cell_type": "code",
   "execution_count": 17,
   "metadata": {},
   "outputs": [
    {
     "name": "stdout",
     "output_type": "stream",
     "text": [
      "<class 'pandas.core.frame.DataFrame'>\n",
      "RangeIndex: 44 entries, 0 to 43\n",
      "Data columns (total 5 columns):\n",
      " #   Column              Non-Null Count  Dtype  \n",
      "---  ------              --------------  -----  \n",
      " 0   NIS_Code            44 non-null     int64  \n",
      " 1   Nom_arrondissement  44 non-null     object \n",
      " 2   lat                 44 non-null     float64\n",
      " 3   lon                 44 non-null     float64\n",
      " 4   region              44 non-null     int32  \n",
      "dtypes: float64(2), int32(1), int64(1), object(1)\n",
      "memory usage: 1.4+ KB\n",
      "<class 'pandas.core.frame.DataFrame'>\n",
      "Int64Index: 44713 entries, 0 to 44712\n",
      "Data columns (total 11 columns):\n",
      " #   Column                 Non-Null Count  Dtype  \n",
      "---  ------                 --------------  -----  \n",
      " 0   YEAR                   44713 non-null  int64  \n",
      " 1   ARRON                  44713 non-null  int64  \n",
      " 2   WEEK                   44713 non-null  int64  \n",
      " 3   population_t           44610 non-null  float64\n",
      " 4   YEAR_WEEK              44713 non-null  object \n",
      " 5   Nom_arrondissement     44713 non-null  object \n",
      " 6   heatwave_week_boolean  44713 non-null  int64  \n",
      " 7   COD_y                  44713 non-null  object \n",
      " 8   N_MASK                 44446 non-null  float64\n",
      " 9   season                 44713 non-null  int32  \n",
      " 10  percentage_death       44343 non-null  float64\n",
      "dtypes: float64(3), int32(1), int64(4), object(3)\n",
      "memory usage: 3.4+ MB\n"
     ]
    }
   ],
   "source": [
    "arron.info()\n",
    "data.info()"
   ]
  },
  {
   "cell_type": "code",
   "execution_count": 18,
   "metadata": {
    "scrolled": true
   },
   "outputs": [
    {
     "data": {
      "text/html": [
       "<div>\n",
       "<style scoped>\n",
       "    .dataframe tbody tr th:only-of-type {\n",
       "        vertical-align: middle;\n",
       "    }\n",
       "\n",
       "    .dataframe tbody tr th {\n",
       "        vertical-align: top;\n",
       "    }\n",
       "\n",
       "    .dataframe thead th {\n",
       "        text-align: right;\n",
       "    }\n",
       "</style>\n",
       "<table border=\"1\" class=\"dataframe\">\n",
       "  <thead>\n",
       "    <tr style=\"text-align: right;\">\n",
       "      <th></th>\n",
       "      <th>YEAR</th>\n",
       "      <th>ARRON</th>\n",
       "      <th>WEEK</th>\n",
       "      <th>population_t</th>\n",
       "      <th>YEAR_WEEK</th>\n",
       "      <th>Nom_arrondissement_x</th>\n",
       "      <th>heatwave_week_boolean</th>\n",
       "      <th>COD_y</th>\n",
       "      <th>N_MASK</th>\n",
       "      <th>season</th>\n",
       "      <th>percentage_death</th>\n",
       "      <th>lat</th>\n",
       "      <th>lon</th>\n",
       "      <th>region</th>\n",
       "    </tr>\n",
       "  </thead>\n",
       "  <tbody>\n",
       "    <tr>\n",
       "      <th>0</th>\n",
       "      <td>2000</td>\n",
       "      <td>11000</td>\n",
       "      <td>1</td>\n",
       "      <td>932103.0</td>\n",
       "      <td>2000-001</td>\n",
       "      <td>Antwerpen</td>\n",
       "      <td>0</td>\n",
       "      <td>natural</td>\n",
       "      <td>31.0</td>\n",
       "      <td>1</td>\n",
       "      <td>0.000033</td>\n",
       "      <td>51.280681</td>\n",
       "      <td>4.505809</td>\n",
       "      <td>1</td>\n",
       "    </tr>\n",
       "    <tr>\n",
       "      <th>1</th>\n",
       "      <td>2000</td>\n",
       "      <td>12000</td>\n",
       "      <td>1</td>\n",
       "      <td>305670.0</td>\n",
       "      <td>2000-001</td>\n",
       "      <td>Mechelen</td>\n",
       "      <td>0</td>\n",
       "      <td>natural</td>\n",
       "      <td>10.0</td>\n",
       "      <td>1</td>\n",
       "      <td>0.000033</td>\n",
       "      <td>51.074719</td>\n",
       "      <td>4.526206</td>\n",
       "      <td>1</td>\n",
       "    </tr>\n",
       "    <tr>\n",
       "      <th>2</th>\n",
       "      <td>2000</td>\n",
       "      <td>13000</td>\n",
       "      <td>1</td>\n",
       "      <td>406199.0</td>\n",
       "      <td>2000-001</td>\n",
       "      <td>Turnhout</td>\n",
       "      <td>0</td>\n",
       "      <td>natural</td>\n",
       "      <td>14.0</td>\n",
       "      <td>1</td>\n",
       "      <td>0.000034</td>\n",
       "      <td>51.250094</td>\n",
       "      <td>4.950422</td>\n",
       "      <td>4</td>\n",
       "    </tr>\n",
       "    <tr>\n",
       "      <th>3</th>\n",
       "      <td>2000</td>\n",
       "      <td>21000</td>\n",
       "      <td>1</td>\n",
       "      <td>959318.0</td>\n",
       "      <td>2000-001</td>\n",
       "      <td>Bruxelles-Capitale</td>\n",
       "      <td>0</td>\n",
       "      <td>natural</td>\n",
       "      <td>43.0</td>\n",
       "      <td>1</td>\n",
       "      <td>0.000045</td>\n",
       "      <td>50.836055</td>\n",
       "      <td>4.370650</td>\n",
       "      <td>1</td>\n",
       "    </tr>\n",
       "    <tr>\n",
       "      <th>4</th>\n",
       "      <td>2000</td>\n",
       "      <td>23000</td>\n",
       "      <td>1</td>\n",
       "      <td>558220.0</td>\n",
       "      <td>2000-001</td>\n",
       "      <td>Hal-Vilvorde</td>\n",
       "      <td>0</td>\n",
       "      <td>natural</td>\n",
       "      <td>14.0</td>\n",
       "      <td>1</td>\n",
       "      <td>0.000025</td>\n",
       "      <td>50.851113</td>\n",
       "      <td>4.272715</td>\n",
       "      <td>1</td>\n",
       "    </tr>\n",
       "  </tbody>\n",
       "</table>\n",
       "</div>"
      ],
      "text/plain": [
       "   YEAR  ARRON  WEEK  population_t YEAR_WEEK Nom_arrondissement_x  \\\n",
       "0  2000  11000     1      932103.0  2000-001            Antwerpen   \n",
       "1  2000  12000     1      305670.0  2000-001             Mechelen   \n",
       "2  2000  13000     1      406199.0  2000-001             Turnhout   \n",
       "3  2000  21000     1      959318.0  2000-001   Bruxelles-Capitale   \n",
       "4  2000  23000     1      558220.0  2000-001         Hal-Vilvorde   \n",
       "\n",
       "   heatwave_week_boolean    COD_y  N_MASK  season  percentage_death  \\\n",
       "0                      0  natural    31.0       1          0.000033   \n",
       "1                      0  natural    10.0       1          0.000033   \n",
       "2                      0  natural    14.0       1          0.000034   \n",
       "3                      0  natural    43.0       1          0.000045   \n",
       "4                      0  natural    14.0       1          0.000025   \n",
       "\n",
       "         lat       lon  region  \n",
       "0  51.280681  4.505809       1  \n",
       "1  51.074719  4.526206       1  \n",
       "2  51.250094  4.950422       4  \n",
       "3  50.836055  4.370650       1  \n",
       "4  50.851113  4.272715       1  "
      ]
     },
     "execution_count": 18,
     "metadata": {},
     "output_type": "execute_result"
    }
   ],
   "source": [
    "#insert 5-means region to the dataset\n",
    "df=pd.merge(data,arron,how='left',left_on='ARRON',right_on='NIS_Code').drop(columns=['NIS_Code','Nom_arrondissement_y'])\n",
    "df.head()"
   ]
  },
  {
   "cell_type": "code",
   "execution_count": 19,
   "metadata": {},
   "outputs": [
    {
     "data": {
      "image/png": "[encoded data removed]",
      "text/plain": [
       "<Figure size 432x288 with 1 Axes>"
      ]
     },
     "metadata": {
      "needs_background": "light"
     },
     "output_type": "display_data"
    }
   ],
   "source": [
    "plot=df.boxplot(column='N_MASK',by=['heatwave_week_boolean','region'])"
   ]
  },
  {
   "cell_type": "code",
   "execution_count": 32,
   "metadata": {},
   "outputs": [
    {
     "data": {
      "text/plain": [
       "<AxesSubplot:xlabel='lon', ylabel='lat'>"
      ]
     },
     "execution_count": 32,
     "metadata": {},
     "output_type": "execute_result"
    },
    {
     "data": {
      "image/png": "[encoded data removed]",
      "text/plain": [
       "<Figure size 432x288 with 2 Axes>"
      ]
     },
     "metadata": {
      "needs_background": "light"
     },
     "output_type": "display_data"
    }
   ],
   "source": [
    "wavebyreg=df.groupby(['lat','lon','ARRON'])['heatwave_week_boolean'].sum().reset_index(name='count')\n",
    "wavebyreg\n",
    "\n",
    "wavebyreg.plot.scatter(y='lat',x='lon',c='count',cmap=\"jet\", s=50)"
   ]
  },
  {
   "cell_type": "code",
   "execution_count": 60,
   "metadata": {},
   "outputs": [
    {
     "data": {
      "text/plain": [
       "(2.3314187760605107, 6.338812412144412, 49.43220653950047, 51.572300716755166)"
      ]
     },
     "execution_count": 60,
     "metadata": {},
     "output_type": "execute_result"
    },
    {
     "data": {
      "image/png": "[encoded data removed]",
      "text/plain": [
       "<Figure size 432x288 with 2 Axes>"
      ]
     },
     "metadata": {
      "needs_background": "light"
     },
     "output_type": "display_data"
    }
   ],
   "source": [
    "import geopandas\n",
    "import matplotlib.pyplot as plt\n",
    "world = geopandas.read_file(geopandas.datasets.get_path('naturalearth_lowres'))\n",
    "cities = geopandas.read_file(geopandas.datasets.get_path('naturalearth_cities'))\n",
    "nybb=geopandas.read_file(geopandas.datasets.get_path('nybb'))\n",
    "\n",
    "a=wavebyreg.plot.scatter(y='lat',x='lon',c='count',cmap=\"jet\", s=50)\n",
    "plot=world[world.name=='Belgium'].boundary.plot(ax=a)\n",
    "plot.axis('off')"
   ]
  },
  {
   "cell_type": "code",
   "execution_count": 63,
   "metadata": {},
   "outputs": [
    {
     "data": {
      "text/html": [
       "<div>\n",
       "<style scoped>\n",
       "    .dataframe tbody tr th:only-of-type {\n",
       "        vertical-align: middle;\n",
       "    }\n",
       "\n",
       "    .dataframe tbody tr th {\n",
       "        vertical-align: top;\n",
       "    }\n",
       "\n",
       "    .dataframe thead th {\n",
       "        text-align: right;\n",
       "    }\n",
       "</style>\n",
       "<table border=\"1\" class=\"dataframe\">\n",
       "  <thead>\n",
       "    <tr style=\"text-align: right;\">\n",
       "      <th></th>\n",
       "      <th>name</th>\n",
       "      <th>geometry</th>\n",
       "    </tr>\n",
       "  </thead>\n",
       "  <tbody>\n",
       "    <tr>\n",
       "      <th>0</th>\n",
       "      <td>Vatican City</td>\n",
       "      <td>POINT (12.45339 41.90328)</td>\n",
       "    </tr>\n",
       "    <tr>\n",
       "      <th>1</th>\n",
       "      <td>San Marino</td>\n",
       "      <td>POINT (12.44177 43.93610)</td>\n",
       "    </tr>\n",
       "    <tr>\n",
       "      <th>2</th>\n",
       "      <td>Vaduz</td>\n",
       "      <td>POINT (9.51667 47.13372)</td>\n",
       "    </tr>\n",
       "    <tr>\n",
       "      <th>3</th>\n",
       "      <td>Luxembourg</td>\n",
       "      <td>POINT (6.13000 49.61166)</td>\n",
       "    </tr>\n",
       "    <tr>\n",
       "      <th>4</th>\n",
       "      <td>Palikir</td>\n",
       "      <td>POINT (158.14997 6.91664)</td>\n",
       "    </tr>\n",
       "  </tbody>\n",
       "</table>\n",
       "</div>"
      ],
      "text/plain": [
       "           name                   geometry\n",
       "0  Vatican City  POINT (12.45339 41.90328)\n",
       "1    San Marino  POINT (12.44177 43.93610)\n",
       "2         Vaduz   POINT (9.51667 47.13372)\n",
       "3    Luxembourg   POINT (6.13000 49.61166)\n",
       "4       Palikir  POINT (158.14997 6.91664)"
      ]
     },
     "execution_count": 63,
     "metadata": {},
     "output_type": "execute_result"
    }
   ],
   "source": [
    "cities.head()"
   ]
  },
  {
   "cell_type": "code",
   "execution_count": 77,
   "metadata": {},
   "outputs": [
    {
     "data": {
      "text/plain": [
       "YEAR\n",
       "2000    1\n",
       "2001    1\n",
       "2002    5\n",
       "2003    9\n",
       "2004    5\n",
       "2005    9\n",
       "2006    8\n",
       "2007    6\n",
       "2008    3\n",
       "2009    1\n",
       "2010    3\n",
       "2011    4\n",
       "2012    3\n",
       "2014    4\n",
       "2015    5\n",
       "2016    2\n",
       "2017    5\n",
       "2018    7\n",
       "2019    6\n",
       "Name: heatwave_week_boolean, dtype: int64"
      ]
     },
     "execution_count": 77,
     "metadata": {},
     "output_type": "execute_result"
    }
   ],
   "source": [
    "##making yearly heatwaves plot\n",
    "number_heat=data.groupby(['YEAR','WEEK'])['heatwave_week_boolean'].sum()\n",
    "a=number_heat[number_heat>0].to_frame()\n",
    "heat_years=a.groupby('YEAR')['heatwave_week_boolean'].count()\n",
    "heat_years"
   ]
  },
  {
   "cell_type": "code",
   "execution_count": 83,
   "metadata": {},
   "outputs": [
    {
     "data": {
      "text/plain": [
       "<matplotlib.axes._subplots.AxesSubplot at 0xc7a7870>"
      ]
     },
     "execution_count": 83,
     "metadata": {},
     "output_type": "execute_result"
    },
    {
     "data": {
      "image/png": "[encoded data removed]",
      "text/plain": [
       "<Figure size 432x288 with 1 Axes>"
      ]
     },
     "metadata": {
      "needs_background": "light"
     },
     "output_type": "display_data"
    }
   ],
   "source": [
    "heat_years.plot.line(x='YEAR',y='heat_years',xticks=list(range(2000, 2020)),rot=45)"
   ]
  },
  {
   "cell_type": "code",
   "execution_count": 1,
   "metadata": {},
   "outputs": [],
   "source": [
    "!pip freeze > requirements.txt"
   ]
  }
 ],
 "metadata": {
  "kernelspec": {
   "display_name": "Python 3 (ipykernel)",
   "language": "python",
   "name": "python3"
  },
  "language_info": {
   "codemirror_mode": {
    "name": "ipython",
    "version": 3
   },
   "file_extension": ".py",
   "mimetype": "text/x-python",
   "name": "python",
   "nbconvert_exporter": "python",
   "pygments_lexer": "ipython3",
   "version": "3.7.13"
  }
 },
 "nbformat": 4,
 "nbformat_minor": 2
}
