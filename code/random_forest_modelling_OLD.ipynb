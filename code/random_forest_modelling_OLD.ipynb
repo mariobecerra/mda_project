{
  "cells": [
    {
      "cell_type": "markdown",
      "metadata": {},
      "source": [
        "# EDA"
      ]
    },
    {
      "cell_type": "code",
      "execution_count": 1,
      "metadata": {},
      "outputs": [],
      "source": [
        "# Importing the libraries\n",
        "import numpy as np\n",
        "import matplotlib.pyplot as plt\n",
        "import pandas as pd"
      ]
    },
    {
      "cell_type": "code",
      "execution_count": 2,
      "metadata": {},
      "outputs": [
        {
          "name": "stdout",
          "output_type": "stream",
          "text": [
            "       YEAR  N_DEATHS  WEEK  population_t YEAR_WEEK  NIS_Code  \\\n",
            "0      2000      31.0     1      932103.0  2000-001   11000.0   \n",
            "1      2000      10.0     1      305670.0  2000-001   12000.0   \n",
            "2      2000      14.0     1      406199.0  2000-001   13000.0   \n",
            "3      2000      43.0     1      959318.0  2000-001   21000.0   \n",
            "4      2000      14.0     1      558220.0  2000-001   23000.0   \n",
            "...     ...       ...   ...           ...       ...       ...   \n",
            "45508  2019      13.0    52       63748.0  2019-052   84000.0   \n",
            "45509  2019       6.0    52       54124.0  2019-052   85000.0   \n",
            "45510  2019      20.0    52      111275.0  2019-052   91000.0   \n",
            "45511  2019      62.0    52      318183.0  2019-052   92000.0   \n",
            "45512  2019       8.0    52       66316.0  2019-052   93000.0   \n",
            "\n",
            "       Nom_arrondissement  heatwave_week_boolean  \n",
            "0               Antwerpen                    0.0  \n",
            "1                Mechelen                    0.0  \n",
            "2                Turnhout                    0.0  \n",
            "3      Bruxelles-Capitale                    0.0  \n",
            "4            Hal-Vilvorde                    0.0  \n",
            "...                   ...                    ...  \n",
            "45508         Neufchâteau                    0.0  \n",
            "45509              Virton                    0.0  \n",
            "45510              Dinant                    0.0  \n",
            "45511               Namur                    0.0  \n",
            "45512       Philippeville                    0.0  \n",
            "\n",
            "[44343 rows x 8 columns]\n"
          ]
        }
      ],
      "source": [
        "data = pd.read_csv('C:/Users/azdra/Documents/School/KU Leuven/Modern Data Analytics/mda_project/code/out/merged.csv')\n",
        "# Dropping redundant and duplicate columns\n",
        "data = data.drop(['Unnamed: 0', 'Unnamed: 0.1', 'ARRON', 'N_MASK', 'COD_y', 'COD_x'], axis = 1)\n",
        "# Dropping ~1000 rows where NaN was present due to lack of population data\n",
        "data = data.dropna(axis = 0)\n",
        "print(data)"
      ]
    },
    {
      "cell_type": "code",
      "execution_count": 3,
      "metadata": {},
      "outputs": [
        {
          "data": {
            "text/html": [
              "<div>\n",
              "<style scoped>\n",
              "    .dataframe tbody tr th:only-of-type {\n",
              "        vertical-align: middle;\n",
              "    }\n",
              "\n",
              "    .dataframe tbody tr th {\n",
              "        vertical-align: top;\n",
              "    }\n",
              "\n",
              "    .dataframe thead th {\n",
              "        text-align: right;\n",
              "    }\n",
              "</style>\n",
              "<table border=\"1\" class=\"dataframe\">\n",
              "  <thead>\n",
              "    <tr style=\"text-align: right;\">\n",
              "      <th></th>\n",
              "      <th>YEAR</th>\n",
              "      <th>N_DEATHS</th>\n",
              "      <th>WEEK</th>\n",
              "      <th>population_t</th>\n",
              "      <th>NIS_Code</th>\n",
              "      <th>heatwave_week_boolean</th>\n",
              "    </tr>\n",
              "  </thead>\n",
              "  <tbody>\n",
              "    <tr>\n",
              "      <th>count</th>\n",
              "      <td>44343.000000</td>\n",
              "      <td>44343.000000</td>\n",
              "      <td>44343.000000</td>\n",
              "      <td>4.434300e+04</td>\n",
              "      <td>44343.000000</td>\n",
              "      <td>44343.000000</td>\n",
              "    </tr>\n",
              "    <tr>\n",
              "      <th>mean</th>\n",
              "      <td>2009.477257</td>\n",
              "      <td>44.175225</td>\n",
              "      <td>26.676071</td>\n",
              "      <td>2.535992e+05</td>\n",
              "      <td>51041.742778</td>\n",
              "      <td>0.104188</td>\n",
              "    </tr>\n",
              "    <tr>\n",
              "      <th>std</th>\n",
              "      <td>5.757857</td>\n",
              "      <td>40.203413</td>\n",
              "      <td>15.004719</td>\n",
              "      <td>2.335067e+05</td>\n",
              "      <td>22783.558055</td>\n",
              "      <td>0.305507</td>\n",
              "    </tr>\n",
              "    <tr>\n",
              "      <th>min</th>\n",
              "      <td>2000.000000</td>\n",
              "      <td>4.000000</td>\n",
              "      <td>1.000000</td>\n",
              "      <td>4.057400e+04</td>\n",
              "      <td>11000.000000</td>\n",
              "      <td>0.000000</td>\n",
              "    </tr>\n",
              "    <tr>\n",
              "      <th>25%</th>\n",
              "      <td>2004.000000</td>\n",
              "      <td>16.000000</td>\n",
              "      <td>14.000000</td>\n",
              "      <td>8.275600e+04</td>\n",
              "      <td>34000.000000</td>\n",
              "      <td>0.000000</td>\n",
              "    </tr>\n",
              "    <tr>\n",
              "      <th>50%</th>\n",
              "      <td>2009.000000</td>\n",
              "      <td>32.000000</td>\n",
              "      <td>27.000000</td>\n",
              "      <td>1.864890e+05</td>\n",
              "      <td>51000.000000</td>\n",
              "      <td>0.000000</td>\n",
              "    </tr>\n",
              "    <tr>\n",
              "      <th>75%</th>\n",
              "      <td>2014.000000</td>\n",
              "      <td>57.000000</td>\n",
              "      <td>40.000000</td>\n",
              "      <td>3.174075e+05</td>\n",
              "      <td>71000.000000</td>\n",
              "      <td>0.000000</td>\n",
              "    </tr>\n",
              "    <tr>\n",
              "      <th>max</th>\n",
              "      <td>2019.000000</td>\n",
              "      <td>317.000000</td>\n",
              "      <td>53.000000</td>\n",
              "      <td>1.217888e+06</td>\n",
              "      <td>93000.000000</td>\n",
              "      <td>1.000000</td>\n",
              "    </tr>\n",
              "  </tbody>\n",
              "</table>\n",
              "</div>"
            ],
            "text/plain": [
              "               YEAR      N_DEATHS          WEEK  population_t      NIS_Code  \\\n",
              "count  44343.000000  44343.000000  44343.000000  4.434300e+04  44343.000000   \n",
              "mean    2009.477257     44.175225     26.676071  2.535992e+05  51041.742778   \n",
              "std        5.757857     40.203413     15.004719  2.335067e+05  22783.558055   \n",
              "min     2000.000000      4.000000      1.000000  4.057400e+04  11000.000000   \n",
              "25%     2004.000000     16.000000     14.000000  8.275600e+04  34000.000000   \n",
              "50%     2009.000000     32.000000     27.000000  1.864890e+05  51000.000000   \n",
              "75%     2014.000000     57.000000     40.000000  3.174075e+05  71000.000000   \n",
              "max     2019.000000    317.000000     53.000000  1.217888e+06  93000.000000   \n",
              "\n",
              "       heatwave_week_boolean  \n",
              "count           44343.000000  \n",
              "mean                0.104188  \n",
              "std                 0.305507  \n",
              "min                 0.000000  \n",
              "25%                 0.000000  \n",
              "50%                 0.000000  \n",
              "75%                 0.000000  \n",
              "max                 1.000000  "
            ]
          },
          "execution_count": 3,
          "metadata": {},
          "output_type": "execute_result"
        }
      ],
      "source": [
        "data.describe()"
      ]
    },
    {
      "cell_type": "markdown",
      "metadata": {},
      "source": [
        "Creating datetime column *year_week_ts*:"
      ]
    },
    {
      "cell_type": "code",
      "execution_count": 4,
      "metadata": {},
      "outputs": [
        {
          "name": "stdout",
          "output_type": "stream",
          "text": [
            "       YEAR  N_DEATHS  WEEK  population_t YEAR_WEEK  NIS_Code  \\\n",
            "0      2000      31.0     1      932103.0  2000-001   11000.0   \n",
            "1      2000      10.0     1      305670.0  2000-001   12000.0   \n",
            "2      2000      14.0     1      406199.0  2000-001   13000.0   \n",
            "3      2000      43.0     1      959318.0  2000-001   21000.0   \n",
            "4      2000      14.0     1      558220.0  2000-001   23000.0   \n",
            "...     ...       ...   ...           ...       ...       ...   \n",
            "45508  2019      13.0    52       63748.0  2019-052   84000.0   \n",
            "45509  2019       6.0    52       54124.0  2019-052   85000.0   \n",
            "45510  2019      20.0    52      111275.0  2019-052   91000.0   \n",
            "45511  2019      62.0    52      318183.0  2019-052   92000.0   \n",
            "45512  2019       8.0    52       66316.0  2019-052   93000.0   \n",
            "\n",
            "       Nom_arrondissement  heatwave_week_boolean year_week_ts  \n",
            "0               Antwerpen                    0.0   2000-01-03  \n",
            "1                Mechelen                    0.0   2000-01-03  \n",
            "2                Turnhout                    0.0   2000-01-03  \n",
            "3      Bruxelles-Capitale                    0.0   2000-01-03  \n",
            "4            Hal-Vilvorde                    0.0   2000-01-03  \n",
            "...                   ...                    ...          ...  \n",
            "45508         Neufchâteau                    0.0   2019-12-23  \n",
            "45509              Virton                    0.0   2019-12-23  \n",
            "45510              Dinant                    0.0   2019-12-23  \n",
            "45511               Namur                    0.0   2019-12-23  \n",
            "45512       Philippeville                    0.0   2019-12-23  \n",
            "\n",
            "[44343 rows x 9 columns]\n"
          ]
        }
      ],
      "source": [
        "from datetime import datetime\n",
        "\n",
        "def year_week(y, w):\n",
        "    return datetime.strptime(f'{y} {w} 1', '%G %V %u')\n",
        "\n",
        "data['year_week_ts'] = data.apply(lambda row: year_week(row.YEAR, row.WEEK), axis=1)\n",
        "print(data)"
      ]
    },
    {
      "cell_type": "code",
      "execution_count": 5,
      "metadata": {},
      "outputs": [
        {
          "name": "stdout",
          "output_type": "stream",
          "text": [
            "<class 'pandas.core.frame.DataFrame'>\n",
            "Int64Index: 44343 entries, 0 to 45512\n",
            "Data columns (total 9 columns):\n",
            " #   Column                 Non-Null Count  Dtype         \n",
            "---  ------                 --------------  -----         \n",
            " 0   YEAR                   44343 non-null  int64         \n",
            " 1   N_DEATHS               44343 non-null  float64       \n",
            " 2   WEEK                   44343 non-null  int64         \n",
            " 3   population_t           44343 non-null  float64       \n",
            " 4   YEAR_WEEK              44343 non-null  object        \n",
            " 5   NIS_Code               44343 non-null  float64       \n",
            " 6   Nom_arrondissement     44343 non-null  object        \n",
            " 7   heatwave_week_boolean  44343 non-null  float64       \n",
            " 8   year_week_ts           44343 non-null  datetime64[ns]\n",
            "dtypes: datetime64[ns](1), float64(4), int64(2), object(2)\n",
            "memory usage: 3.4+ MB\n"
          ]
        }
      ],
      "source": [
        "data.info()"
      ]
    },
    {
      "cell_type": "code",
      "execution_count": 6,
      "metadata": {},
      "outputs": [
        {
          "data": {
            "text/plain": [
              "<seaborn.axisgrid.FacetGrid at 0x26525bf42e0>"
            ]
          },
          "execution_count": 6,
          "metadata": {},
          "output_type": "execute_result"
        },
        {
          "data": {
            "image/png": "[encoded data removed]",
            "text/plain": [
              "<Figure size 360x360 with 1 Axes>"
            ]
          },
          "metadata": {
            "needs_background": "light"
          },
          "output_type": "display_data"
        },
        {
          "data": {
            "image/png": "[encoded data removed]",
            "text/plain": [
              "<Figure size 360x360 with 1 Axes>"
            ]
          },
          "metadata": {
            "needs_background": "light"
          },
          "output_type": "display_data"
        },
        {
          "data": {
            "image/png": "[encoded data removed]",
            "text/plain": [
              "<Figure size 360x360 with 1 Axes>"
            ]
          },
          "metadata": {
            "needs_background": "light"
          },
          "output_type": "display_data"
        }
      ],
      "source": [
        "import seaborn as sns\n",
        "\n",
        "sns.displot(data, x=\"heatwave_week_boolean\")\n",
        "sns.displot(data, x=\"NIS_Code\")\n",
        "sns.lmplot(data=data, x=\"population_t\", y=\"N_DEATHS\")\n"
      ]
    },
    {
      "cell_type": "code",
      "execution_count": 7,
      "metadata": {},
      "outputs": [
        {
          "name": "stderr",
          "output_type": "stream",
          "text": [
            "<ipython-input-7-544ed685c06f>:1: UserWarning: Pandas doesn't allow columns to be created via a new attribute name - see https://pandas.pydata.org/pandas-docs/stable/indexing.html#attribute-access\n",
            "  data.prop = data['N_DEATHS']/data['population_t']\n"
          ]
        },
        {
          "data": {
            "text/plain": [
              "<AxesSubplot:xlabel='heatwave_week_boolean'>"
            ]
          },
          "execution_count": 7,
          "metadata": {},
          "output_type": "execute_result"
        },
        {
          "data": {
            "image/png": "[encoded data removed]",
            "text/plain": [
              "<Figure size 432x288 with 1 Axes>"
            ]
          },
          "metadata": {
            "needs_background": "light"
          },
          "output_type": "display_data"
        }
      ],
      "source": [
        "data.prop = data['N_DEATHS']/data['population_t']\n",
        "sns.boxplot(x=\"heatwave_week_boolean\", y=data.prop, data=data)"
      ]
    },
    {
      "cell_type": "code",
      "execution_count": 8,
      "metadata": {},
      "outputs": [
        {
          "data": {
            "text/plain": [
              "<seaborn.axisgrid.FacetGrid at 0x26524720dc0>"
            ]
          },
          "execution_count": 8,
          "metadata": {},
          "output_type": "execute_result"
        },
        {
          "data": {
            "image/png": "[encoded data removed]",
            "text/plain": [
              "<Figure size 492.625x360 with 1 Axes>"
            ]
          },
          "metadata": {
            "needs_background": "light"
          },
          "output_type": "display_data"
        }
      ],
      "source": [
        "sns.displot(data, x=\"N_DEATHS\", hue=\"heatwave_week_boolean\", kind=\"kde\", fill=True)"
      ]
    },
    {
      "cell_type": "code",
      "execution_count": 9,
      "metadata": {},
      "outputs": [
        {
          "data": {
            "text/plain": [
              "<seaborn.axisgrid.FacetGrid at 0x26513b9aee0>"
            ]
          },
          "execution_count": 9,
          "metadata": {},
          "output_type": "execute_result"
        },
        {
          "data": {
            "image/png": "[encoded data removed]",
            "text/plain": [
              "<Figure size 492.625x360 with 1 Axes>"
            ]
          },
          "metadata": {
            "needs_background": "light"
          },
          "output_type": "display_data"
        }
      ],
      "source": [
        "sns.displot(data, x=\"N_DEATHS\", hue=\"heatwave_week_boolean\", kind=\"kde\", fill=True)"
      ]
    },
    {
      "cell_type": "markdown",
      "metadata": {},
      "source": [
        "# Train/Test Split"
      ]
    },
    {
      "cell_type": "code",
      "execution_count": 10,
      "metadata": {},
      "outputs": [],
      "source": [
        "X = data.loc[:, ~data.columns.isin(['N_DEATHS', 'Nom_arrondissement', 'YEAR_WEEK', 'year_week_ts'])]\n",
        "y = data.loc[:, data.columns == 'N_DEATHS']\n",
        "\n",
        "from sklearn.model_selection import train_test_split\n",
        "\n",
        "# Splitting our data into training and testing set\n",
        "X_train, X_test, y_train, y_test = train_test_split(X, y, test_size = 0.2, random_state = 0)"
      ]
    },
    {
      "cell_type": "markdown",
      "metadata": {},
      "source": [
        "# Baseline Model\n"
      ]
    },
    {
      "cell_type": "markdown",
      "metadata": {},
      "source": [
        "Before we can make and evaluate predictions, we need to establish a baseline, a sensible measure that we hope to beat with our model. If our model cannot improve upon the baseline, then it will be a failure and we should try a different model or admit that machine learning is not right for our problem. The baseline prediction for our case can be the historical max temperature averages. In other words, our baseline is the error we would get if we simply predicted the average max temperature for all days.\n"
      ]
    },
    {
      "cell_type": "code",
      "execution_count": 11,
      "metadata": {},
      "outputs": [
        {
          "name": "stdout",
          "output_type": "stream",
          "text": [
            "Average baseline error:  N_DEATHS    29.49\n",
            "dtype: float64\n"
          ]
        }
      ],
      "source": [
        "# The baseline predictions are the historical averages\n",
        "baseline_preds = y_train.mean()\n",
        "\n",
        "# Baseline absolute errors and display average baseline error\n",
        "baseline_errors = abs(baseline_preds - y_test)\n",
        "print('Average baseline error: ', round(np.mean(baseline_errors), 2))"
      ]
    },
    {
      "cell_type": "markdown",
      "metadata": {},
      "source": [
        "# Random Forest Regression"
      ]
    },
    {
      "cell_type": "code",
      "execution_count": 12,
      "metadata": {},
      "outputs": [
        {
          "name": "stderr",
          "output_type": "stream",
          "text": [
            "<ipython-input-12-371d84b7b231>:4: DataConversionWarning: A column-vector y was passed when a 1d array was expected. Please change the shape of y to (n_samples,), for example using ravel().\n",
            "  model_rf.fit(X_train, y_train)\n"
          ]
        },
        {
          "data": {
            "text/plain": [
              "RandomForestRegressor(n_estimators=300, random_state=0)"
            ]
          },
          "execution_count": 12,
          "metadata": {},
          "output_type": "execute_result"
        }
      ],
      "source": [
        "from sklearn.ensemble import RandomForestRegressor\n",
        "# Fitting a random forest regression to the dataset\n",
        "model_rf = RandomForestRegressor(n_estimators = 300, random_state = 0)\n",
        "model_rf.fit(X_train, y_train)"
      ]
    },
    {
      "cell_type": "code",
      "execution_count": 13,
      "metadata": {},
      "outputs": [
        {
          "name": "stdout",
          "output_type": "stream",
          "text": [
            "Mean Absolute Error: N_DEATHS    5.81\n",
            "dtype: float64 degrees.\n"
          ]
        }
      ],
      "source": [
        "# Use the forest's predict method on the test data\n",
        "predictions = model_rf.predict(X_test)\n",
        "# Calculate the absolute errors\n",
        "errors = abs(predictions.reshape(len(y_test), 1) - y_test)\n",
        "\n",
        "# Print out the mean absolute error (mae)\n",
        "print('Mean Absolute Error:', round(np.mean(errors), 2), 'degrees.')"
      ]
    },
    {
      "cell_type": "code",
      "execution_count": 14,
      "metadata": {},
      "outputs": [],
      "source": [
        "importances = model_rf.feature_importances_\n",
        "std = np.std([tree.feature_importances_ for tree in model_rf.estimators_], axis=0)"
      ]
    },
    {
      "cell_type": "code",
      "execution_count": 15,
      "metadata": {},
      "outputs": [
        {
          "data": {
            "text/plain": [
              "Index(['YEAR', 'N_DEATHS', 'WEEK', 'population_t', 'YEAR_WEEK', 'NIS_Code',\n",
              "       'Nom_arrondissement', 'heatwave_week_boolean', 'year_week_ts'],\n",
              "      dtype='object')"
            ]
          },
          "execution_count": 15,
          "metadata": {},
          "output_type": "execute_result"
        }
      ],
      "source": [
        "feature_names = data.columns\n",
        "feature_names"
      ]
    },
    {
      "cell_type": "code",
      "execution_count": 16,
      "metadata": {},
      "outputs": [
        {
          "data": {
            "text/plain": [
              "<BarContainer object of 5 artists>"
            ]
          },
          "execution_count": 16,
          "metadata": {},
          "output_type": "execute_result"
        },
        {
          "data": {
            "image/png": "[encoded data removed]",
            "text/plain": [
              "<Figure size 432x288 with 1 Axes>"
            ]
          },
          "metadata": {
            "needs_background": "light"
          },
          "output_type": "display_data"
        }
      ],
      "source": [
        "plt.barh(X.columns, model_rf.feature_importances_)"
      ]
    },
    {
      "cell_type": "code",
      "execution_count": 17,
      "metadata": {},
      "outputs": [],
      "source": [
        "from sklearn.inspection import permutation_importance\n",
        "perm_importance = permutation_importance(model_rf, X_test, y_test)\n"
      ]
    },
    {
      "cell_type": "code",
      "execution_count": 18,
      "metadata": {},
      "outputs": [
        {
          "data": {
            "text/plain": [
              "Text(0.5, 0, 'Permutation Importance')"
            ]
          },
          "execution_count": 18,
          "metadata": {},
          "output_type": "execute_result"
        },
        {
          "data": {
            "image/png": "[encoded data removed]",
            "text/plain": [
              "<Figure size 432x288 with 1 Axes>"
            ]
          },
          "metadata": {
            "needs_background": "light"
          },
          "output_type": "display_data"
        }
      ],
      "source": [
        "sorted_idx = perm_importance.importances_mean.argsort()\n",
        "plt.barh(X_test.columns[sorted_idx], perm_importance.importances_mean[sorted_idx])\n",
        "plt.xlabel(\"Permutation Importance\")\n"
      ]
    },
    {
      "cell_type": "code",
      "execution_count": null,
      "metadata": {},
      "outputs": [],
      "source": []
    }
  ],
  "metadata": {
    "colab": {
      "authorship_tag": "ABX9TyPO/34HRZL+58CZ0kHQu4kj",
      "include_colab_link": true,
      "name": "modelling.ipynb",
      "provenance": []
    },
    "interpreter": {
      "hash": "398b0065f50162c1b8c4880c29c8a5eec687976cc28c806c28ee5adb796fb9de"
    },
    "kernelspec": {
      "display_name": "Python 3.8.5 ('base')",
      "language": "python",
      "name": "python3"
    },
    "language_info": {
      "codemirror_mode": {
        "name": "ipython",
        "version": 3
      },
      "file_extension": ".py",
      "mimetype": "text/x-python",
      "name": "python",
      "nbconvert_exporter": "python",
      "pygments_lexer": "ipython3",
      "version": "3.8.5"
    }
  },
  "nbformat": 4,
  "nbformat_minor": 0
}
